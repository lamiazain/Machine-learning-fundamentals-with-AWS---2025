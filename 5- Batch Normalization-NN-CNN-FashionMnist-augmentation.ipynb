{
  "cells": [
    {
      "cell_type": "markdown",
      "id": "939a4f9e",
      "metadata": {
        "id": "939a4f9e"
      },
      "source": [
        "## CNN for Fashion MNIST dataset  "
      ]
    },
    {
      "cell_type": "markdown",
      "id": "63032f49",
      "metadata": {
        "id": "63032f49"
      },
      "source": [
        "### Imports"
      ]
    },
    {
      "cell_type": "code",
      "execution_count": 1,
      "id": "648c6308",
      "metadata": {
        "id": "648c6308"
      },
      "outputs": [],
      "source": [
        "## This cell contains the essential imports you will need – DO NOT CHANGE THE CONTENTS! ##\n",
        "import torch\n",
        "import torch.nn as nn\n",
        "import torch.nn.functional as F\n",
        "import torch.optim as optim\n",
        "import torchvision\n",
        "import torchvision.transforms as transforms\n",
        "import matplotlib.pyplot as plt\n",
        "import numpy as np\n",
        "from torchvision import datasets, transforms"
      ]
    },
    {
      "cell_type": "code",
      "execution_count": 2,
      "id": "ec130b29",
      "metadata": {
        "colab": {
          "base_uri": "https://localhost:8080/"
        },
        "id": "ec130b29",
        "outputId": "7e2a10e6-6bdb-479d-e69b-de6ba133a504"
      },
      "outputs": [
        {
          "output_type": "stream",
          "name": "stderr",
          "text": [
            "100%|██████████| 26.4M/26.4M [00:02<00:00, 13.1MB/s]\n",
            "100%|██████████| 29.5k/29.5k [00:00<00:00, 211kB/s]\n",
            "100%|██████████| 4.42M/4.42M [00:01<00:00, 3.89MB/s]\n",
            "100%|██████████| 5.15k/5.15k [00:00<00:00, 9.37MB/s]\n"
          ]
        }
      ],
      "source": [
        "from torch.utils.data import DataLoader\n",
        "from torchvision import datasets, transforms\n",
        "\n",
        "# Define a transformation and remove the .normalize transform\n",
        "\n",
        "transform = transforms.Compose([\n",
        "    transforms.ToTensor(),\n",
        "])\n",
        "\n",
        "# Load dataset\n",
        "dataset = datasets.FashionMNIST(root='/root/data', train=True, download=True, transform=transform)\n",
        "\n",
        "# Create DataLoader with multiple workers\n",
        "dataloader = DataLoader(dataset, batch_size=64, shuffle=True, num_workers=2)"
      ]
    },
    {
      "cell_type": "code",
      "execution_count": 3,
      "id": "6775557e",
      "metadata": {
        "colab": {
          "base_uri": "https://localhost:8080/"
        },
        "id": "6775557e",
        "outputId": "7969787b-fb46-489c-d51b-c3b44f47f3fa"
      },
      "outputs": [
        {
          "output_type": "stream",
          "name": "stdout",
          "text": [
            "Mean is  0.2860111892223358  STD is  0.35301080346107483\n"
          ]
        },
        {
          "output_type": "execute_result",
          "data": {
            "text/plain": [
              "(tensor(0.2860), tensor(0.3530))"
            ]
          },
          "metadata": {},
          "execution_count": 3
        }
      ],
      "source": [
        "import torch\n",
        "def mean_std(dataloader):\n",
        "    #finding mean and std for input images\n",
        "\n",
        "    summ_means, squared_sum_mean, num_batches= 0, 0, 0\n",
        "    num_batches = len(dataloader)\n",
        "\n",
        "    for data,label in dataloader:\n",
        "        # Mean over batch, height and width, but not over the channels\n",
        "        summ_means += torch.mean(data) #sum of means for all batches\n",
        "        squared_sum_mean += torch.mean(data**2) #sum of mean of squares for all batches\n",
        "\n",
        "    mean_gray = summ_means / len(dataloader) #num_batches = len(dataloader)\n",
        "\n",
        "    # std = sqrt(E[X^2] - (E[X])^2)\n",
        "    std_gray = (squared_sum_mean / num_batches - mean_gray ** 2) ** 0.5\n",
        "    print(\"Mean is \",mean_gray.item(),\" STD is \",std_gray.item())\n",
        "    return mean_gray,std_gray\n",
        "mean_std(dataloader)"
      ]
    },
    {
      "cell_type": "code",
      "execution_count": 4,
      "id": "26893ccb",
      "metadata": {
        "id": "26893ccb"
      },
      "outputs": [],
      "source": [
        "from torch.utils.data import DataLoader\n",
        "from torchvision import datasets, transforms\n",
        "\n",
        "# Define a transformation\n",
        "transform = transforms.Compose([\n",
        "    transforms.ToTensor(),\n",
        "    transforms.Normalize((0.286,), (0.353,))\n",
        "])\n",
        "\n",
        "# Load dataset\n",
        "train_dataset = datasets.FashionMNIST(root='/root/data', train=True, download=True, transform=transform)\n",
        "\n",
        "# Create DataLoader with multiple workers\n",
        "train_dataloader = DataLoader(train_dataset, batch_size=64, shuffle=True, num_workers=2)\n",
        "#len(train_dataloader.dataset)\n",
        "test_dataset = datasets.FashionMNIST(root='/root/data', train=False, download=True, transform=transform)\n",
        "test_loader = DataLoader(test_dataset, batch_size=64, shuffle=False, num_workers=2)"
      ]
    },
    {
      "cell_type": "markdown",
      "id": "1d4d0c19",
      "metadata": {
        "id": "1d4d0c19"
      },
      "source": [
        "### Adding validtion dataset"
      ]
    },
    {
      "cell_type": "code",
      "execution_count": 5,
      "id": "93d1abf5",
      "metadata": {
        "colab": {
          "base_uri": "https://localhost:8080/"
        },
        "id": "93d1abf5",
        "outputId": "56d2db1d-6e19-4ede-93b8-b5d419cccd4b"
      },
      "outputs": [
        {
          "output_type": "stream",
          "name": "stdout",
          "text": [
            "Training dataset size: 50000\n",
            "Validation dataset size: 10000\n"
          ]
        }
      ],
      "source": [
        "# split the training dataset into training and validation datasets\n",
        "train_dataset,valid_dataset = torch.utils.data.random_split(train_dataset,[50000,10000])\n",
        "\n",
        "train_dataloader = DataLoader(train_dataset, batch_size=64, shuffle=True, num_workers=2)\n",
        "valid_loader = torch.utils.data.DataLoader(valid_dataset, batch_size=64, shuffle=True)\n",
        "\n",
        "print(f\"Training dataset size: {len(train_dataloader.dataset)}\")\n",
        "print(f\"Validation dataset size: {len(valid_loader.dataset)}\")"
      ]
    },
    {
      "cell_type": "markdown",
      "id": "962221b9",
      "metadata": {
        "id": "962221b9"
      },
      "source": [
        "### Let's recap From last session (NN)"
      ]
    },
    {
      "cell_type": "code",
      "execution_count": 27,
      "id": "074b5153",
      "metadata": {
        "id": "074b5153"
      },
      "outputs": [],
      "source": [
        "import torch\n",
        "import torch.nn as nn\n",
        "import torch.optim as optim\n",
        "import torch.nn.init as init\n",
        "\n",
        "\n",
        "# Define your neural network architecture\n",
        "class NeuralNet(nn.Module): #inheretence concept\n",
        "    def __init__(self):\n",
        "        super(NeuralNet, self).__init__()\n",
        "        self.flatten = nn.Flatten()\n",
        "        self.relu = nn.ReLU() #whether you will use this many times or not , Define it once\n",
        "        self.fc1 = nn.Linear(784, 256) # Common approach 2^n\n",
        "\n",
        "        init.uniform_(self.fc1.weight,a=0.1, b=1.1)\n",
        "        init.zeros_(self.fc1.bias)\n",
        "\n",
        "        self.fc2 = nn.Linear(256, 10) #why 10 ?\n",
        "        init.xavier_uniform_(self.fc2.weight, gain=1.1)\n",
        "\n",
        "\n",
        "\n",
        "    def forward(self, x):\n",
        "        x = self.flatten(x) # 28x28 --> 784\n",
        "        x = self.fc1(x)   # 784 --> 256\n",
        "        x = self.relu(x)\n",
        "        x = self.fc2(x) # 256-->10 #Is dependent on the loss you will use\n",
        "        #x = torch.softmax(x, dim=1)\n",
        "        return x\n",
        "\n",
        "\n",
        "# Instantiate the neural network\n",
        "model_NN = NeuralNet()\n",
        "\n",
        "\n",
        "\n"
      ]
    },
    {
      "cell_type": "markdown",
      "id": "d2efd589",
      "metadata": {
        "id": "d2efd589"
      },
      "source": [
        "### Simple CNN:"
      ]
    },
    {
      "cell_type": "code",
      "execution_count": 28,
      "id": "90762573",
      "metadata": {
        "id": "90762573"
      },
      "outputs": [],
      "source": [
        "class ConvNet(nn.Module):\n",
        "    def __init__(self):\n",
        "        # We optimize dropout rate in a convolutional neural network.\n",
        "        super(ConvNet, self).__init__()\n",
        "\n",
        "        self.conv1 = nn.Conv2d(in_channels = 1, out_channels=16, kernel_size=3, stride=1, padding= 1)\n",
        "        ## ToDo: Create another convolution layer  that generates 32 Feature maps name it self.conv2\n",
        "        self.conv2 = nn.Conv2d(in_channels=16,out_channels=32,kernel_size=3,stride=1,padding=1)\n",
        "\n",
        "        self.drop2D=nn.Dropout2d(p=0.2)\n",
        "        self.drop1D=nn.Dropout1d(p=0.2)\n",
        "\n",
        "        ## ToDo: Create a MaxPool Layer of size (2,2) name it self.pool\n",
        "        self.pool = nn.MaxPool2d(kernel_size = 2)\n",
        "\n",
        "        self.fc1 = nn.Linear(32*7*7, 256)\n",
        "        self.fc2 = nn.Linear(256, 10) # 10 classes\n",
        "\n",
        "    def forward(self, x):\n",
        "        x = F.relu(self.pool(self.conv1(x)))  # 1 x 28 x 28 ->  16 x 28 x 28 ->  16 x 14 x 14\n",
        "        x = F.relu(self.pool(self.conv2(x)))  # 16 x 14 x 14  -->  32 x 14 x 14 ->  32 x 7 x 7\n",
        "        x = self.drop2D(x)\n",
        "\n",
        "        x = x.view(x.size(0),-1)             #7x7x32-->1568\n",
        "\n",
        "        x = F.relu(self.fc1(x))              #1568\n",
        "        x = self.drop1D(x)\n",
        "\n",
        "        x = self.fc2(x)                      #256--> 10\n",
        "\n",
        "        return x\n",
        "\n",
        "# Instantiate the neural network\n",
        "model_CNN = ConvNet()\n",
        "\n",
        "\n"
      ]
    },
    {
      "cell_type": "markdown",
      "id": "a19be693",
      "metadata": {
        "id": "a19be693"
      },
      "source": [
        "### Let's recap From last session (Training loop)\n",
        "Use the following training loop to train both NNs and CNNs"
      ]
    },
    {
      "cell_type": "code",
      "execution_count": 30,
      "id": "1bde4a38",
      "metadata": {
        "colab": {
          "base_uri": "https://localhost:8080/",
          "height": 1000
        },
        "id": "1bde4a38",
        "outputId": "5c81cd9a-62ee-488c-ca55-be7652f7b36f"
      },
      "outputs": [
        {
          "output_type": "stream",
          "name": "stdout",
          "text": [
            "Epoch 1: Training Loss = 832.2097118556347\n",
            "Epoch 1: Validation Loss = 112.3233669639393\n",
            "Epoch 2: Training Loss = 80.73327395312316\n",
            "Epoch 2: Validation Loss = 47.04220751744167\n",
            "Epoch 3: Training Loss = 43.77068961977654\n",
            "Epoch 3: Validation Loss = 33.82154546801452\n",
            "Epoch 4: Training Loss = 32.54409633877942\n",
            "Epoch 4: Validation Loss = 21.472123278933726\n",
            "Epoch 5: Training Loss = 22.85354282102926\n",
            "Epoch 5: Validation Loss = 14.96598362846739\n",
            "Epoch 6: Training Loss = 18.297530949115753\n",
            "Epoch 6: Validation Loss = 75.4565754908665\n",
            "Epoch 7: Training Loss = 16.65227059223463\n",
            "Epoch 7: Validation Loss = 13.980676553811238\n",
            "Epoch 8: Training Loss = 13.12299945653247\n",
            "Epoch 8: Validation Loss = 12.870891378184034\n",
            "Epoch 9: Training Loss = 12.034388629066974\n",
            "Epoch 9: Validation Loss = 9.15411152353712\n",
            "Epoch 10: Training Loss = 10.191817523725808\n",
            "Epoch 10: Validation Loss = 8.342858300846853\n"
          ]
        },
        {
          "output_type": "display_data",
          "data": {
            "text/plain": [
              "<Figure size 640x480 with 1 Axes>"
            ],
            "image/png": "[encoded data removed]"
          },
          "metadata": {}
        },
        {
          "output_type": "stream",
          "name": "stdout",
          "text": [
            "Epoch 1: Training Loss = 1.2541663084950898\n",
            "Epoch 1: Validation Loss = 0.6911273351900137\n",
            "Epoch 2: Training Loss = 0.9391914771493438\n",
            "Epoch 2: Validation Loss = 0.6336571097753609\n",
            "Epoch 3: Training Loss = 0.8665588293843867\n",
            "Epoch 3: Validation Loss = 0.47541937763523906\n",
            "Epoch 4: Training Loss = 0.8235336797088003\n",
            "Epoch 4: Validation Loss = 0.5982686994941371\n",
            "Epoch 5: Training Loss = 0.7945384918271429\n",
            "Epoch 5: Validation Loss = 0.42682187126320636\n",
            "Epoch 6: Training Loss = 0.7772584524758331\n",
            "Epoch 6: Validation Loss = 0.3829770553263889\n",
            "Epoch 7: Training Loss = 0.7622556164670173\n",
            "Epoch 7: Validation Loss = 0.36668436912594327\n",
            "Epoch 8: Training Loss = 0.7437027887919979\n",
            "Epoch 8: Validation Loss = 0.3653947883730481\n",
            "Epoch 9: Training Loss = 0.7421374510011405\n",
            "Epoch 9: Validation Loss = 0.3576159565501912\n",
            "Epoch 10: Training Loss = 0.7359350413236472\n",
            "Epoch 10: Validation Loss = 0.3360067748340072\n"
          ]
        },
        {
          "output_type": "display_data",
          "data": {
            "text/plain": [
              "<Figure size 640x480 with 1 Axes>"
            ],
            "image/png": "[encoded data removed]"
          },
          "metadata": {}
        }
      ],
      "source": [
        "import matplotlib.pyplot as plt\n",
        "\n",
        "# Define the loss function and optimizer\n",
        "criterion = nn.CrossEntropyLoss() #Classification or regression?\n",
        "\n",
        "for model in [model_NN,model_CNN]:\n",
        "  # Train the neural network\n",
        "  Epochs = 10\n",
        "  training_losses = []\n",
        "  validation_losses = []\n",
        "  best_val_loss = float('inf') #A very big number approaching infinity\n",
        "  optimizer = optim.SGD(model.parameters(), lr=0.01)\n",
        "\n",
        "\n",
        "  for epoch in range(Epochs): # 10  Epochs\n",
        "      # ToDo: put the model in the training mode\n",
        "      #✍️✍️✍️\n",
        "      model.train()\n",
        "      running_loss = 0.0\n",
        "      valid_loss = 0.0\n",
        "      for inputs, labels in train_dataloader: #looping the batches\n",
        "\n",
        "\n",
        "          # Zero the gradients\n",
        "          optimizer.zero_grad()  #ensures that the gradients are cleared or reset to zero before the next forward-backward pass.\n",
        "\n",
        "          # Forward pass\n",
        "          outputs = model(inputs)\n",
        "          loss = criterion(outputs, labels)\n",
        "\n",
        "          # Backward pass and optimization\n",
        "          loss.backward() #calculate the gradients\n",
        "          #update our weights of each Batch\n",
        "          optimizer.step()\n",
        "\n",
        "          running_loss += loss.item() #accumulating losses over batches\n",
        "\n",
        "      total_loss = running_loss/len(train_dataloader)\n",
        "      training_losses.append(total_loss)\n",
        "      print(f\"Epoch {epoch+1}: Training Loss = {total_loss}\") # Batch loss=Total losses/number of batches\n",
        "\n",
        "      model.eval()\n",
        "      for inputs, labels in valid_loader: #looping the batches\n",
        "\n",
        "\n",
        "          # Forward pass\n",
        "          outputs = model(inputs)\n",
        "          loss = criterion(outputs, labels)\n",
        "\n",
        "          valid_loss += loss.item() #accumulating losses over batches\n",
        "\n",
        "      total_loss = valid_loss/len(valid_loader)\n",
        "      validation_losses.append(total_loss)\n",
        "      print(f\"Epoch {epoch+1}: Validation Loss = {total_loss}\") # Batch loss=Total losses/number of batches\n",
        "      if total_loss < best_val_loss:\n",
        "        best_val_loss = total_loss\n",
        "        best_state_dict = model.state_dict()\n",
        "\n",
        "\n",
        "  torch.save(best_state_dict, f'best_model{type(model).__name__}.pth')\n",
        "\n",
        "  #Plot traing and validation losses saved in the training loops\n",
        "  plt.plot(training_losses, label='Training Loss')\n",
        "  plt.plot(validation_losses, label='Validation Loss')\n",
        "  plt.xlabel('Epoch')\n",
        "  plt.ylabel('Loss')\n",
        "  plt.title('Training and Validation Loss during Training')\n",
        "  plt.legend()\n",
        "  plt.show()"
      ]
    },
    {
      "cell_type": "code",
      "execution_count": 31,
      "id": "2a2f9f09",
      "metadata": {
        "colab": {
          "base_uri": "https://localhost:8080/"
        },
        "id": "2a2f9f09",
        "outputId": "d1a21210-ca56-4bdf-9a85-7d7f4e7b426c"
      },
      "outputs": [
        {
          "output_type": "stream",
          "name": "stdout",
          "text": [
            "NeuralNet Test Accuracy: 26.22%\n",
            "ConvNet Test Accuracy: 87.36%\n"
          ]
        }
      ],
      "source": [
        "\n",
        "# Define a dictionary of model names and classes\n",
        "model_classes = {\n",
        "    \"NeuralNet\": model_NN,\n",
        "    \"ConvNet\": model_CNN\n",
        "}\n",
        "\n",
        "\n",
        "for model_name, model_class in model_classes.items():\n",
        "    # Step 1: Instantiate the model\n",
        "    model = model_class\n",
        "\n",
        "    # Step 2: Load the saved weights\n",
        "    model.load_state_dict(torch.load(f\"best_model{model_name}.pth\"))\n",
        "\n",
        "    # Step 3: Move model to device and set to eval mode\n",
        "    model.eval()\n",
        "\n",
        "    # Step 4: Run inference on test data\n",
        "    correct = 0\n",
        "    total = 0\n",
        "\n",
        "    with torch.no_grad():\n",
        "        for inputs, labels in test_loader:\n",
        "            outputs = model(inputs)\n",
        "            _, predicted = torch.max(outputs, 1)\n",
        "            correct += (predicted == labels).sum().item()\n",
        "            total += labels.size(0)\n",
        "\n",
        "    accuracy = 100 * correct / total\n",
        "    print(f\"{model_name} Test Accuracy: {accuracy:.2f}%\")\n"
      ]
    },
    {
      "cell_type": "markdown",
      "id": "c1e225e8",
      "metadata": {
        "id": "c1e225e8"
      },
      "source": [
        "### ✍️ToDo: Training is too slow, suggest how to solve this problem"
      ]
    },
    {
      "cell_type": "code",
      "source": [
        "import torch\n",
        "\n",
        "# ✍️Check if CUDA is available\n",
        "device = \"cuda\" if torch.cuda.is_available() else \"cpu\"\n",
        "# ✍️Move the model to the GPU if CUDA is available\n",
        "\n",
        "print(device)"
      ],
      "metadata": {
        "colab": {
          "base_uri": "https://localhost:8080/"
        },
        "id": "H1NhU1ayx16o",
        "outputId": "30c2623e-4637-4e51-e4bc-e852070fffe3"
      },
      "id": "H1NhU1ayx16o",
      "execution_count": 32,
      "outputs": [
        {
          "output_type": "stream",
          "name": "stdout",
          "text": [
            "cuda\n"
          ]
        }
      ]
    },
    {
      "cell_type": "code",
      "execution_count": 33,
      "id": "0e9fecc4",
      "metadata": {
        "colab": {
          "base_uri": "https://localhost:8080/",
          "height": 1000
        },
        "id": "0e9fecc4",
        "outputId": "a7ef3a8e-9213-404d-8852-bb284fa7a4bb"
      },
      "outputs": [
        {
          "output_type": "stream",
          "name": "stdout",
          "text": [
            "Epoch 1: Training Loss = 9.712590816228285\n",
            "Epoch 1: Validation Loss = 42.21772339465512\n",
            "Epoch 2: Training Loss = 9.172381502892964\n",
            "Epoch 2: Validation Loss = 12.440446148252791\n",
            "Epoch 3: Training Loss = 8.203957397309715\n",
            "Epoch 3: Validation Loss = 7.915059223296536\n",
            "Epoch 4: Training Loss = 7.793265465427847\n",
            "Epoch 4: Validation Loss = 7.329720638360188\n",
            "Epoch 5: Training Loss = 6.990303531022328\n",
            "Epoch 5: Validation Loss = 9.915821946350633\n",
            "Epoch 6: Training Loss = 7.010708624597096\n",
            "Epoch 6: Validation Loss = 5.426013811378722\n",
            "Epoch 7: Training Loss = 6.509186789812639\n",
            "Epoch 7: Validation Loss = 5.09984637141987\n",
            "Epoch 8: Training Loss = 6.3962050299815205\n",
            "Epoch 8: Validation Loss = 6.772422062363594\n",
            "Epoch 9: Training Loss = 5.767193632510007\n",
            "Epoch 9: Validation Loss = 7.409894274298552\n",
            "Epoch 10: Training Loss = 5.951370484841144\n",
            "Epoch 10: Validation Loss = 5.628145015923081\n"
          ]
        },
        {
          "output_type": "display_data",
          "data": {
            "text/plain": [
              "<Figure size 640x480 with 1 Axes>"
            ],
            "image/png": "[encoded data removed]"
          },
          "metadata": {}
        },
        {
          "output_type": "stream",
          "name": "stdout",
          "text": [
            "Epoch 1: Training Loss = 0.7203190994384648\n",
            "Epoch 1: Validation Loss = 0.32906351395093714\n",
            "Epoch 2: Training Loss = 0.7233267152477103\n",
            "Epoch 2: Validation Loss = 0.3478976886743193\n",
            "Epoch 3: Training Loss = 0.7090708571093162\n",
            "Epoch 3: Validation Loss = 0.3237407722860385\n",
            "Epoch 4: Training Loss = 0.7099731501258547\n",
            "Epoch 4: Validation Loss = 0.3320393947659025\n",
            "Epoch 5: Training Loss = 0.6984070508605074\n",
            "Epoch 5: Validation Loss = 0.29743503508674113\n",
            "Epoch 6: Training Loss = 0.692652622604614\n",
            "Epoch 6: Validation Loss = 0.3040261829070225\n",
            "Epoch 7: Training Loss = 0.6859150489654078\n",
            "Epoch 7: Validation Loss = 0.30666655415941957\n",
            "Epoch 8: Training Loss = 0.6854262981954438\n",
            "Epoch 8: Validation Loss = 0.33061124745068277\n",
            "Epoch 9: Training Loss = 0.6803902453168884\n",
            "Epoch 9: Validation Loss = 0.33992873056299366\n",
            "Epoch 10: Training Loss = 0.6753800680189181\n",
            "Epoch 10: Validation Loss = 0.2779234923944352\n"
          ]
        },
        {
          "output_type": "display_data",
          "data": {
            "text/plain": [
              "<Figure size 640x480 with 1 Axes>"
            ],
            "image/png": "[encoded data removed]"
          },
          "metadata": {}
        }
      ],
      "source": [
        "import matplotlib.pyplot as plt\n",
        "\n",
        "# Define the loss function and optimizer\n",
        "criterion = nn.CrossEntropyLoss() #Classification or regression?\n",
        "\n",
        "for model in [model_NN,model_CNN]:\n",
        "  # Train the neural network\n",
        "  Epochs = 10\n",
        "  training_losses = []\n",
        "  validation_losses = []\n",
        "  best_val_loss = float('inf') #A very big number approaching infinity\n",
        "  model.to(device)\n",
        "  optimizer = optim.SGD(model.parameters(), lr=0.01)\n",
        "\n",
        "  for epoch in range(Epochs): # 10  Epochs\n",
        "      #✍️✍️✍️\n",
        "      model.train()\n",
        "      running_loss = 0.0\n",
        "      valid_loss = 0.0\n",
        "      for inputs, labels in train_dataloader: #looping the batches\n",
        "          #✍️\n",
        "          inputs, labels = inputs.to(device), labels.to(device)\n",
        "\n",
        "          # Zero the gradients\n",
        "          optimizer.zero_grad()  #ensures that the gradients are cleared or reset to zero before the next forward-backward pass.\n",
        "\n",
        "          # Forward pass\n",
        "          outputs = model(inputs)\n",
        "          loss = criterion(outputs, labels)\n",
        "\n",
        "          # Backward pass and optimization\n",
        "          loss.backward() #calculate the gradients\n",
        "          #update our weights of each Batch\n",
        "          optimizer.step()\n",
        "\n",
        "          running_loss += loss.item() #accumulating losses over batches\n",
        "\n",
        "      total_loss = running_loss/len(train_dataloader)\n",
        "      training_losses.append(total_loss)\n",
        "      print(f\"Epoch {epoch+1}: Training Loss = {total_loss}\") # Batch loss=Total losses/number of batches\n",
        "\n",
        "      model.eval()\n",
        "      for inputs, labels in valid_loader: #looping the batches\n",
        "          #✍️\n",
        "          inputs, labels = inputs.to(device), labels.to(device)\n",
        "          # Forward pass\n",
        "          outputs = model(inputs)\n",
        "          loss = criterion(outputs, labels)\n",
        "\n",
        "          valid_loss += loss.item() #accumulating losses over batches\n",
        "\n",
        "      total_loss = valid_loss/len(valid_loader)\n",
        "      validation_losses.append(total_loss)\n",
        "      print(f\"Epoch {epoch+1}: Validation Loss = {total_loss}\") # Batch loss=Total losses/number of batches\n",
        "      if total_loss < best_val_loss:\n",
        "        best_val_loss = total_loss\n",
        "        best_state_dict = model.state_dict()\n",
        "\n",
        "\n",
        "  torch.save(best_state_dict, f'best_model{type(model).__name__}.pth')\n",
        "\n",
        "  #Plot traing and validation losses saved in the training loops\n",
        "  plt.plot(training_losses, label='Training Loss')\n",
        "  plt.plot(validation_losses, label='Validation Loss')\n",
        "  plt.xlabel('Epoch')\n",
        "  plt.ylabel('Loss')\n",
        "  plt.title('Training and Validation Loss during Training')\n",
        "  plt.legend()\n",
        "  plt.show()"
      ]
    },
    {
      "cell_type": "code",
      "source": [
        "\n",
        "# Define a dictionary of model names and classes\n",
        "model_classes = {\n",
        "    \"NeuralNet\": model_NN,\n",
        "    \"ConvNet\": model_CNN\n",
        "}\n",
        "\n",
        "\n",
        "for model_name, model_class in model_classes.items():\n",
        "    # Step 1: Instantiate the model\n",
        "    model = model_class\n",
        "    model.to(device)\n",
        "    # Step 2: Load the saved weights\n",
        "    model.load_state_dict(torch.load(f\"best_model{model_name}.pth\"))\n",
        "\n",
        "    # Step 3: Move model to device and set to eval mode\n",
        "    model.eval()\n",
        "\n",
        "    # Step 4: Run inference on test data\n",
        "    correct = 0\n",
        "    total = 0\n",
        "\n",
        "    with torch.no_grad():\n",
        "        for inputs, labels in test_loader:\n",
        "            inputs, labels = inputs.to(device), labels.to(device)\n",
        "            outputs = model(inputs)\n",
        "            _, predicted = torch.max(outputs, 1)\n",
        "            correct += (predicted == labels).sum().item()\n",
        "            total += labels.size(0)\n",
        "\n",
        "    accuracy = 100 * correct / total\n",
        "    print(f\"{model_name} Test Accuracy: {accuracy:.2f}%\")\n"
      ],
      "metadata": {
        "colab": {
          "base_uri": "https://localhost:8080/"
        },
        "id": "tJEGN0N5VYbp",
        "outputId": "e09efb77-6a6c-40f4-a185-62f965e4f6eb"
      },
      "id": "tJEGN0N5VYbp",
      "execution_count": 34,
      "outputs": [
        {
          "output_type": "stream",
          "name": "stdout",
          "text": [
            "NeuralNet Test Accuracy: 27.83%\n",
            "ConvNet Test Accuracy: 89.21%\n"
          ]
        }
      ]
    },
    {
      "cell_type": "markdown",
      "id": "9c834444",
      "metadata": {
        "id": "9c834444"
      },
      "source": [
        "### ✍️ToDO: Try an a more complex architecture of 3 Convolution layers and 3 Fully connected layers"
      ]
    },
    {
      "cell_type": "code",
      "execution_count": 35,
      "id": "145cf62c",
      "metadata": {
        "id": "145cf62c"
      },
      "outputs": [],
      "source": [
        "class ConvNet(nn.Module):\n",
        "    def __init__(self):\n",
        "        # We optimize dropout rate in a convolutional neural network.\n",
        "        super(ConvNet, self).__init__()\n",
        "\n",
        "        self.conv1 = nn.Conv2d(in_channels = 1, out_channels=16, kernel_size=3, stride=1, padding= 1)\n",
        "        ## ToDo: Create another convolution layer  that generates 32 Feature maps name it self.conv2\n",
        "        self.conv2 = nn.Conv2d(in_channels=16,out_channels=32,kernel_size=3,stride=1,padding=1)\n",
        "        self.conv3 = nn.Conv2d(in_channels=32,out_channels=64,kernel_size=3,stride=1,padding=1)\n",
        "\n",
        "\n",
        "        self.drop2D=nn.Dropout2d(p=0.2)\n",
        "        self.drop1D=nn.Dropout1d(p=0.2)\n",
        "\n",
        "        ## ToDo: Create a MaxPool Layer of size (2,2) name it self.pool\n",
        "        self.pool = nn.MaxPool2d(kernel_size = 2)\n",
        "\n",
        "        self.fc1 = nn.Linear(64*3*3, 256)\n",
        "        self.fc2 = nn.Linear(256, 128)\n",
        "        self.fc3 = nn.Linear(128, 10) # 10 classes\n",
        "\n",
        "    def forward(self, x):\n",
        "        x = F.relu(self.pool(self.conv1(x)))  # 1 x 28 x 28 ->  16 x 28 x 28 ->  16 x 14 x 14\n",
        "        x = F.relu(self.pool(self.conv2(x)))  # 16 x 14 x 14  -->  32 x 14 x 14 ->  32 x 7 x 7\n",
        "        x = self.drop2D(x)\n",
        "        x = F.relu(self.pool(self.conv3(x)))  # 32 x 7 x 7  -->  64 x 7 x 7 ->  64 x 3 x 3\n",
        "\n",
        "        x = x.view(x.size(0),-1)             #64 x 3 x 3--> 576\n",
        "\n",
        "        x = F.relu(self.fc1(x))              #576  -> 256\n",
        "        x = self.drop1D(x)\n",
        "\n",
        "        x =  F.relu(self.fc2(x))                      #256--> 128\n",
        "        x =  F.relu(self.fc3(x))                      #128--> 10\n",
        "\n",
        "        return x\n",
        "\n",
        "# Instantiate the neural network\n",
        "model = ConvNet()\n",
        "\n",
        "model.to(device)\n",
        "\n",
        "# Define the loss function and optimizer\n",
        "criterion = nn.CrossEntropyLoss() #Classification or regression?\n",
        "optimizer = optim.SGD(model.parameters(), lr=0.01)"
      ]
    },
    {
      "cell_type": "markdown",
      "id": "4cb57178",
      "metadata": {
        "id": "4cb57178"
      },
      "source": [
        "### ✍️ToDO: Train the new model"
      ]
    },
    {
      "cell_type": "code",
      "execution_count": 36,
      "id": "6d74a12f",
      "metadata": {
        "colab": {
          "base_uri": "https://localhost:8080/"
        },
        "id": "6d74a12f",
        "outputId": "f1bd5bc9-a0f0-499a-f262-4cd5b43756c9"
      },
      "outputs": [
        {
          "output_type": "stream",
          "name": "stdout",
          "text": [
            "Epoch 1: Training Loss = 2.296517341338155\n",
            "Epoch 1: Validation Loss = 2.2801613974723085\n",
            "Epoch 2: Training Loss = 2.085099888427178\n",
            "Epoch 2: Validation Loss = 1.7061845094535002\n",
            "Epoch 3: Training Loss = 1.5813897773432914\n",
            "Epoch 3: Validation Loss = 1.1729470787534289\n",
            "Epoch 4: Training Loss = 1.3242542487581064\n",
            "Epoch 4: Validation Loss = 1.0631337560665834\n",
            "Epoch 5: Training Loss = 1.275166483791283\n",
            "Epoch 5: Validation Loss = 1.021357641478253\n",
            "Epoch 6: Training Loss = 1.2354637943875149\n",
            "Epoch 6: Validation Loss = 0.9645968709781672\n",
            "Epoch 7: Training Loss = 1.2069148078294056\n",
            "Epoch 7: Validation Loss = 1.0457292058665282\n",
            "Epoch 8: Training Loss = 1.1861513403370558\n",
            "Epoch 8: Validation Loss = 0.9152345877544136\n",
            "Epoch 9: Training Loss = 1.1676686892424093\n",
            "Epoch 9: Validation Loss = 0.911430296624542\n",
            "Epoch 10: Training Loss = 1.1536022128961276\n",
            "Epoch 10: Validation Loss = 0.8635503993292523\n"
          ]
        }
      ],
      "source": [
        "\n",
        "\n",
        "# Train the neural network\n",
        "Epochs = 10\n",
        "training_losses = []\n",
        "validation_losses = []\n",
        "best_val_loss = float('inf') #A very big number approaching infinity\n",
        "\n",
        "\n",
        "for epoch in range(Epochs): # 10  Epochs\n",
        "\n",
        "    model.train()\n",
        "    running_loss = 0.0\n",
        "    valid_loss = 0.0\n",
        "    for inputs, labels in train_dataloader: #looping the batches\n",
        "\n",
        "        #✍️\n",
        "        inputs, labels = inputs.to(device), labels.to(device)\n",
        "        # Zero the gradients\n",
        "        optimizer.zero_grad()  #ensures that the gradients are cleared or reset to zero before the next forward-backward pass.\n",
        "\n",
        "        # Forward pass\n",
        "        outputs = model(inputs)\n",
        "        loss = criterion(outputs, labels)\n",
        "\n",
        "        # Backward pass and optimization\n",
        "        loss.backward() #calculate the gradients\n",
        "        #update our weights of each Batch\n",
        "        optimizer.step()\n",
        "\n",
        "        running_loss += loss.item() #accumulating losses over batches\n",
        "\n",
        "    total_loss = running_loss/len(train_dataloader)\n",
        "    training_losses.append(total_loss)\n",
        "    print(f\"Epoch {epoch+1}: Training Loss = {total_loss}\") # Batch loss=Total losses/number of batches\n",
        "\n",
        "    model.eval()\n",
        "    for inputs, labels in valid_loader: #looping the batches\n",
        "        #✍️\n",
        "        inputs, labels = inputs.to(device), labels.to(device)\n",
        "        # Forward pass\n",
        "        outputs = model(inputs)\n",
        "        loss = criterion(outputs, labels)\n",
        "\n",
        "        valid_loss += loss.item() #accumulating losses over batches\n",
        "\n",
        "    total_loss = valid_loss/len(valid_loader)\n",
        "    validation_losses.append(total_loss)\n",
        "    print(f\"Epoch {epoch+1}: Validation Loss = {total_loss}\") # Batch loss=Total losses/number of batches\n",
        "    if total_loss < best_val_loss:\n",
        "      best_val_loss = total_loss\n",
        "      best_state_dict = model.state_dict()\n",
        "\n",
        "torch.save(best_state_dict, 'best_model.pth')"
      ]
    },
    {
      "cell_type": "markdown",
      "id": "f0974f38",
      "metadata": {
        "id": "f0974f38"
      },
      "source": [
        "### ✍️ToDO: Test the new model"
      ]
    },
    {
      "cell_type": "code",
      "execution_count": 37,
      "id": "01741208",
      "metadata": {
        "colab": {
          "base_uri": "https://localhost:8080/"
        },
        "id": "01741208",
        "outputId": "561bbcb6-bb86-4c66-f58f-b9e52c556ab8"
      },
      "outputs": [
        {
          "output_type": "stream",
          "name": "stdout",
          "text": [
            "Accuracy of the model on the 10000 test images: 65.72%\n"
          ]
        }
      ],
      "source": [
        "# prompt: ### Test model accuracy using the test dataset\n",
        "\n",
        "# ToDo: put the model in evaluation mode\n",
        "model.eval()\n",
        "\n",
        "correct = 0\n",
        "total = 0\n",
        "with torch.no_grad():\n",
        "    for inputs, labels in test_loader:\n",
        "        inputs, labels = inputs.to(device), labels.to(device)\n",
        "        outputs = model(inputs)\n",
        "        _, predicted = torch.max(outputs.data, 1)\n",
        "        total += labels.size(0)\n",
        "        correct += (predicted == labels).sum().item()\n",
        "\n",
        "accuracy = 100 * correct / total\n",
        "print(f\"Accuracy of the model on the {total} test images: {accuracy:.2f}%\")"
      ]
    },
    {
      "cell_type": "markdown",
      "id": "d625f0ae",
      "metadata": {
        "id": "d625f0ae"
      },
      "source": [
        "### Applying batch Normalization to your model"
      ]
    },
    {
      "cell_type": "code",
      "execution_count": 38,
      "id": "40ac2add",
      "metadata": {
        "id": "40ac2add"
      },
      "outputs": [],
      "source": [
        "class ConvNet(nn.Module):\n",
        "    def __init__(self):\n",
        "        # We optimize dropout rate in a convolutional neural network.\n",
        "        super(ConvNet, self).__init__()\n",
        "\n",
        "        self.conv1 = nn.Conv2d(in_channels = 1, out_channels=16, kernel_size=3, stride=1, padding= 1)\n",
        "        self.bn1 = nn.BatchNorm2d(16)  # Batch normalization for 16 feature maps\n",
        "        self.conv2 = nn.Conv2d(in_channels=16,out_channels=32,kernel_size=3,stride=1,padding=1)\n",
        "        self.bn2 = nn.BatchNorm2d(32)  # Batch normalization for 32 feature maps\n",
        "        self.conv3 = nn.Conv2d(in_channels=32,out_channels=64,kernel_size=3,stride=1,padding=1)\n",
        "        self.bn3 = nn.BatchNorm2d(64)  # Batch normalization for 64 feature maps\n",
        "\n",
        "        self.drop2D=nn.Dropout2d(p=0.2)\n",
        "        self.drop1D=nn.Dropout1d(p=0.2)\n",
        "\n",
        "        ## ToDo: Create a MaxPool Layer of size (2,2) name it self.pool\n",
        "        self.pool = nn.MaxPool2d(kernel_size = 2)\n",
        "\n",
        "        self.fc1 = nn.Linear(64*3*3, 256)\n",
        "        self.fc2 = nn.Linear(256, 64)\n",
        "        self.fc3 = nn.Linear(64, 10) # 10 classes\n",
        "\n",
        "    def forward(self, x):\n",
        "        x = F.relu(self.bn1(self.pool(self.conv1(x))))  # 1 x 28 x 28 ->  16 x 28 x 28 ->  16 x 14 x 14\n",
        "        x = F.relu(self.bn2(self.pool(self.conv2(x))))  # 16 x 14 x 14  -->  32 x 14 x 14 ->  32 x 7 x 7\n",
        "        x = self.drop2D(x)\n",
        "        x = F.relu(self.bn3(self.pool(self.conv3(x))))  #32 x 7 x 7 -> 64 x 7 x 7  ->  64 x 3 x 3\n",
        "\n",
        "        x = x.view(x.size(0),-1)              #64 x 3 x 3 --> 576\n",
        "\n",
        "        x = F.relu(self.fc1(x))              #576 -> 256\n",
        "        x = self.drop1D(x)\n",
        "        x = F.relu(self.fc2(x))              #256 -> 64\n",
        "\n",
        "        x = self.fc3(x)                      #64--> 10\n",
        "\n",
        "        return x\n",
        "\n",
        "# Instantiate the neural network\n",
        "model = ConvNet()\n",
        "\n",
        "# Define the loss function and optimizer\n",
        "criterion = nn.CrossEntropyLoss() #Classification or regression?\n",
        "optimizer = optim.SGD(model.parameters(), lr=0.01)\n"
      ]
    },
    {
      "cell_type": "code",
      "execution_count": 39,
      "id": "0be3ed6b",
      "metadata": {
        "colab": {
          "base_uri": "https://localhost:8080/"
        },
        "id": "0be3ed6b",
        "outputId": "f739c959-9208-4494-e357-2816e118d625"
      },
      "outputs": [
        {
          "output_type": "stream",
          "name": "stdout",
          "text": [
            "Epoch 1: Training Loss = 1.4338490668007784\n",
            "Epoch 1: Validation Loss = 0.6556332627679132\n",
            "Epoch 2: Training Loss = 0.8813474107047786\n",
            "Epoch 2: Validation Loss = 0.47127134500035817\n",
            "Epoch 3: Training Loss = 0.7906490657335657\n",
            "Epoch 3: Validation Loss = 0.4057607495101394\n",
            "Epoch 4: Training Loss = 0.752997128936031\n",
            "Epoch 4: Validation Loss = 0.4119446362089959\n",
            "Epoch 5: Training Loss = 0.7254874123560499\n",
            "Epoch 5: Validation Loss = 0.347077612379554\n",
            "Epoch 6: Training Loss = 0.7144137763839853\n",
            "Epoch 6: Validation Loss = 0.3622350184021482\n",
            "Epoch 7: Training Loss = 0.7041736037072623\n",
            "Epoch 7: Validation Loss = 0.2992288454133234\n",
            "Epoch 8: Training Loss = 0.6963025869996956\n",
            "Epoch 8: Validation Loss = 0.31994007091233684\n",
            "Epoch 9: Training Loss = 0.6829366558957892\n",
            "Epoch 9: Validation Loss = 0.3082579781010652\n",
            "Epoch 10: Training Loss = 0.6767756546778447\n",
            "Epoch 10: Validation Loss = 0.30079687220655427\n"
          ]
        }
      ],
      "source": [
        "import torch\n",
        "\n",
        "# ✍️Check if CUDA is available\n",
        "device = torch.device(\"cuda\" if torch.cuda.is_available() else \"cpu\")\n",
        "\n",
        "# ✍️Move the model to the GPU if CUDA is available\n",
        "model.to(device)\n",
        "\n",
        "# Train the neural network\n",
        "Epochs = 10\n",
        "training_losses = []\n",
        "validation_losses = []\n",
        "best_val_loss = float('inf') #A very big number approaching infinity\n",
        "\n",
        "\n",
        "for epoch in range(Epochs): # 10  Epochs\n",
        "\n",
        "    model.train()\n",
        "    running_loss = 0.0\n",
        "    valid_loss = 0.0\n",
        "    for inputs, labels in train_dataloader: #looping the batches\n",
        "\n",
        "        #✍️\n",
        "        inputs, labels = inputs.to(device), labels.to(device)\n",
        "        # Zero the gradients\n",
        "        optimizer.zero_grad()  #ensures that the gradients are cleared or reset to zero before the next forward-backward pass.\n",
        "\n",
        "        # Forward pass\n",
        "        outputs = model(inputs)\n",
        "        loss = criterion(outputs, labels)\n",
        "\n",
        "        # Backward pass and optimization\n",
        "        loss.backward() #calculate the gradients\n",
        "        #update our weights of each Batch\n",
        "        optimizer.step()\n",
        "\n",
        "        running_loss += loss.item() #accumulating losses over batches\n",
        "\n",
        "    total_loss = running_loss/len(train_dataloader)\n",
        "    training_losses.append(total_loss)\n",
        "    print(f\"Epoch {epoch+1}: Training Loss = {total_loss}\") # Batch loss=Total losses/number of batches\n",
        "\n",
        "    model.eval()\n",
        "    for inputs, labels in valid_loader: #looping the batches\n",
        "        #✍️\n",
        "        inputs, labels = inputs.to(device), labels.to(device)\n",
        "\n",
        "        # Forward pass\n",
        "        outputs = model(inputs)\n",
        "        loss = criterion(outputs, labels)\n",
        "\n",
        "        valid_loss += loss.item() #accumulating losses over batches\n",
        "\n",
        "    total_loss = valid_loss/len(valid_loader)\n",
        "    validation_losses.append(total_loss)\n",
        "    print(f\"Epoch {epoch+1}: Validation Loss = {total_loss}\") # Batch loss=Total losses/number of batches\n",
        "    if total_loss < best_val_loss:\n",
        "      best_val_loss = total_loss\n",
        "      best_state_dict = model.state_dict()\n",
        "\n",
        "torch.save(best_state_dict, 'best_model.pth')"
      ]
    },
    {
      "cell_type": "code",
      "source": [
        "# prompt: ### Test model accuracy using the test dataset\n",
        "\n",
        "# ToDo: put the model in evaluation mode\n",
        "model.eval()\n",
        "\n",
        "correct = 0\n",
        "total = 0\n",
        "with torch.no_grad():\n",
        "    for inputs, labels in test_loader:\n",
        "        inputs, labels = inputs.to(device), labels.to(device)\n",
        "        outputs = model(inputs)\n",
        "        _, predicted = torch.max(outputs.data, 1)\n",
        "        total += labels.size(0)\n",
        "        correct += (predicted == labels).sum().item()\n",
        "\n",
        "accuracy = 100 * correct / total\n",
        "print(f\"Accuracy of the model on the {total} test images: {accuracy:.2f}%\")"
      ],
      "metadata": {
        "colab": {
          "base_uri": "https://localhost:8080/"
        },
        "id": "mm0lSBdpYE-J",
        "outputId": "6a16e7ea-4f37-4df6-8fd4-37b6e04f1d54"
      },
      "id": "mm0lSBdpYE-J",
      "execution_count": 41,
      "outputs": [
        {
          "output_type": "stream",
          "name": "stdout",
          "text": [
            "Accuracy of the model on the 10000 test images: 87.78%\n"
          ]
        }
      ]
    },
    {
      "cell_type": "markdown",
      "source": [
        "### Data Augmentation"
      ],
      "metadata": {
        "id": "JBOYta5EJCn_"
      },
      "id": "JBOYta5EJCn_"
    },
    {
      "cell_type": "code",
      "source": [
        "# Define a transformation\n",
        "test_transform = transforms.Compose([\n",
        "    transforms.ToTensor(),\n",
        "    transforms.Normalize((0.1307,), (0.3081,))\n",
        "])\n",
        "\n",
        "# Define a transformation\n",
        "train_transform = transforms.Compose([\n",
        "    transforms.RandomVerticalFlip(0.5),\n",
        "    transforms.RandomAffine(degrees=10),\n",
        "    transforms.ToTensor(),\n",
        "    transforms.Normalize((0.2860,), (0.3530,))\n",
        "])\n",
        "\n",
        "\n",
        "# Load dataset\n",
        "train_dataset = datasets.FashionMNIST(root='/root/data', train=True, download=True, transform=train_transform)\n",
        "test_dataset = datasets.FashionMNIST(root='/root/data', train=False, download=True, transform=test_transform)\n",
        "\n",
        "\n",
        "# Create DataLoader with multiple workers\n",
        "train_dataloader = DataLoader(train_dataset, batch_size=64, shuffle=True, num_workers=2)\n",
        "#len(train_dataloader.dataset)\n",
        "test_loader = DataLoader(test_dataset, batch_size=64, shuffle=False, num_workers=2)\n"
      ],
      "metadata": {
        "id": "av8_gt_t0Du_"
      },
      "id": "av8_gt_t0Du_",
      "execution_count": 42,
      "outputs": []
    },
    {
      "cell_type": "code",
      "source": [
        "\n",
        "import matplotlib.pyplot as plt\n",
        "## This cell contains a function for showing 5 images from a dataloader – DO NOT CHANGE THE CONTENTS! ##\n",
        "\n",
        "\n",
        "\n",
        "def show_imgs(img_loader,n):\n",
        "\n",
        "    dataiter = iter(img_loader)\n",
        "\n",
        "    batch = next(dataiter)\n",
        "    labels = batch[1][0:n]\n",
        "    images = batch[0][0:n]\n",
        "    for i in range(n):\n",
        "        label_idx = int(labels[i].detach())\n",
        "\n",
        "\n",
        "        image = images[i].numpy()\n",
        "        plt.imshow(image.T.squeeze().T)\n",
        "        plt.show()\n",
        "show_imgs(train_dataloader,5)"
      ],
      "metadata": {
        "colab": {
          "base_uri": "https://localhost:8080/",
          "height": 1000
        },
        "id": "RcVCVeIOJvGz",
        "outputId": "2b4a2c9e-df5f-4a9d-89f5-42318b266cc3"
      },
      "id": "RcVCVeIOJvGz",
      "execution_count": 43,
      "outputs": [
        {
          "output_type": "display_data",
          "data": {
            "text/plain": [
              "<Figure size 640x480 with 1 Axes>"
            ],
            "image/png": "[encoded data removed]"
          },
          "metadata": {}
        },
        {
          "output_type": "display_data",
          "data": {
            "text/plain": [
              "<Figure size 640x480 with 1 Axes>"
            ],
            "image/png": "[encoded data removed]"
          },
          "metadata": {}
        },
        {
          "output_type": "display_data",
          "data": {
            "text/plain": [
              "<Figure size 640x480 with 1 Axes>"
            ],
            "image/png": "[encoded data removed]"
          },
          "metadata": {}
        },
        {
          "output_type": "display_data",
          "data": {
            "text/plain": [
              "<Figure size 640x480 with 1 Axes>"
            ],
            "image/png": "[encoded data removed]"
          },
          "metadata": {}
        },
        {
          "output_type": "display_data",
          "data": {
            "text/plain": [
              "<Figure size 640x480 with 1 Axes>"
            ],
            "image/png": "[encoded data removed]"
          },
          "metadata": {}
        }
      ]
    },
    {
      "cell_type": "code",
      "source": [],
      "metadata": {
        "id": "e9ACbAObNBQw"
      },
      "id": "e9ACbAObNBQw",
      "execution_count": null,
      "outputs": []
    },
    {
      "cell_type": "code",
      "source": [
        "\n"
      ],
      "metadata": {
        "id": "VoRauXx_MgEQ"
      },
      "id": "VoRauXx_MgEQ",
      "execution_count": null,
      "outputs": []
    },
    {
      "cell_type": "code",
      "source": [],
      "metadata": {
        "id": "EVpRvqCXRMRV"
      },
      "id": "EVpRvqCXRMRV",
      "execution_count": null,
      "outputs": []
    }
  ],
  "metadata": {
    "kernelspec": {
      "display_name": "Python 3",
      "name": "python3"
    },
    "language_info": {
      "codemirror_mode": {
        "name": "ipython",
        "version": 3
      },
      "file_extension": ".py",
      "mimetype": "text/x-python",
      "name": "python",
      "nbconvert_exporter": "python",
      "pygments_lexer": "ipython3",
      "version": "3.12.4"
    },
    "colab": {
      "provenance": [],
      "gpuType": "T4"
    },
    "accelerator": "GPU"
  },
  "nbformat": 4,
  "nbformat_minor": 5
}
