{
  "nbformat": 4,
  "nbformat_minor": 0,
  "metadata": {
    "colab": {
      "provenance": []
    },
    "kernelspec": {
      "name": "python3",
      "display_name": "Python 3"
    },
    "language_info": {
      "name": "python"
    }
  },
  "cells": [
    {
      "cell_type": "markdown",
      "source": [
        "### Remember Fashion Mnist dataset?"
      ],
      "metadata": {
        "id": "WcfI3-2hG2Ql"
      }
    },
    {
      "cell_type": "code",
      "source": [
        "from torch.utils.data import DataLoader\n",
        "from torchvision import datasets, transforms\n",
        "\n",
        "# Define a transformation\n",
        "transform = transforms.Compose([\n",
        "    transforms.ToTensor(),\n",
        "    transforms.Normalize((0.5,), (0.5,))\n",
        "])\n",
        "\n",
        "# Load dataset\n",
        "dataset = datasets.MNIST(root='/root/data', train=True, download=True, transform=transform)\n",
        "\n",
        "# Create DataLoader with multiple workers\n",
        "dataloader = DataLoader(dataset, batch_size=64, shuffle=True, num_workers=4)"
      ],
      "metadata": {
        "colab": {
          "base_uri": "https://localhost:8080/"
        },
        "id": "GTXU4styHFXr",
        "outputId": "8bd035e4-1f4d-4c84-c9bc-bde614ffddae"
      },
      "execution_count": 1,
      "outputs": [
        {
          "output_type": "stream",
          "name": "stderr",
          "text": [
            "100%|██████████| 9.91M/9.91M [00:00<00:00, 11.3MB/s]\n",
            "100%|██████████| 28.9k/28.9k [00:00<00:00, 346kB/s]\n",
            "100%|██████████| 1.65M/1.65M [00:00<00:00, 3.17MB/s]\n",
            "100%|██████████| 4.54k/4.54k [00:00<00:00, 6.10MB/s]\n",
            "/usr/local/lib/python3.11/dist-packages/torch/utils/data/dataloader.py:624: UserWarning: This DataLoader will create 4 worker processes in total. Our suggested max number of worker in current system is 2, which is smaller than what this DataLoader is going to create. Please be aware that excessive worker creation might get DataLoader running slow or even freeze, lower the worker number to avoid potential slowness/freeze if necessary.\n",
            "  warnings.warn(\n"
          ]
        }
      ]
    },
    {
      "cell_type": "markdown",
      "source": [
        "🤔❓ How did we decide that mean and standard deviation will be 0.5 and 0.5?\n",
        "\n",
        "Let's calculate the dataset mean and std to have a new normalized dataset with a mean of zero and standard deviation of 1"
      ],
      "metadata": {
        "id": "WYEY73rLGv-O"
      }
    },
    {
      "cell_type": "code",
      "execution_count": 25,
      "metadata": {
        "colab": {
          "base_uri": "https://localhost:8080/"
        },
        "id": "cjdngj51Gt-r",
        "outputId": "6980ab17-8b77-4206-991a-7c716890ef58"
      },
      "outputs": [
        {
          "output_type": "stream",
          "name": "stderr",
          "text": [
            "/usr/local/lib/python3.11/dist-packages/torch/utils/data/dataloader.py:624: UserWarning: This DataLoader will create 4 worker processes in total. Our suggested max number of worker in current system is 2, which is smaller than what this DataLoader is going to create. Please be aware that excessive worker creation might get DataLoader running slow or even freeze, lower the worker number to avoid potential slowness/freeze if necessary.\n",
            "  warnings.warn(\n"
          ]
        }
      ],
      "source": [
        "from torch.utils.data import DataLoader\n",
        "from torchvision import datasets, transforms\n",
        "\n",
        "# Define a transformation and remove the .normalize transform\n",
        "\n",
        "transform = transforms.Compose([\n",
        "    transforms.ToTensor(),\n",
        "])\n",
        "\n",
        "# Load dataset\n",
        "dataset = datasets.MNIST(root='/root/data', train=True, download=True, transform=transform)\n",
        "\n",
        "# Create DataLoader with multiple workers\n",
        "dataloader = DataLoader(dataset, batch_size=64, shuffle=True, num_workers=4)"
      ]
    },
    {
      "cell_type": "code",
      "source": [
        "import torch\n",
        "def mean_std(dataloader):\n",
        "    #finding mean and std for input images\n",
        "\n",
        "    summ_means, squared_sum_mean, num_batches= 0, 0, 0\n",
        "    num_batches = len(dataloader)\n",
        "\n",
        "    for data,label in dataloader:\n",
        "        # Mean over batch, height and width, but not over the channels\n",
        "        summ_means += torch.mean(data) #sum of means for all batches\n",
        "        squared_sum_mean += torch.mean(data**2) #sum of mean of squares for all batches\n",
        "\n",
        "    mean_gray = summ_means / len(dataloader) #num_batches = len(dataloader)\n",
        "\n",
        "    # std = sqrt(E[X^2] - (E[X])^2)\n",
        "    std_gray = (squared_sum_mean / num_batches - mean_gray ** 2) ** 0.5\n",
        "    print(\"Mean is \",mean_gray.item(),\" STD is \",std_gray.item())\n",
        "    return mean_gray,std_gray\n",
        "\n",
        "\n",
        "mean_std(dataloader)"
      ],
      "metadata": {
        "colab": {
          "base_uri": "https://localhost:8080/"
        },
        "id": "bh9toMa-HZ6n",
        "outputId": "f0b03d85-74b6-4129-8616-a856cbc6cf5b"
      },
      "execution_count": 26,
      "outputs": [
        {
          "output_type": "stream",
          "name": "stderr",
          "text": [
            "/usr/local/lib/python3.11/dist-packages/torch/utils/data/dataloader.py:624: UserWarning: This DataLoader will create 4 worker processes in total. Our suggested max number of worker in current system is 2, which is smaller than what this DataLoader is going to create. Please be aware that excessive worker creation might get DataLoader running slow or even freeze, lower the worker number to avoid potential slowness/freeze if necessary.\n",
            "  warnings.warn(\n"
          ]
        },
        {
          "output_type": "stream",
          "name": "stdout",
          "text": [
            "Mean is  0.1306595653295517  STD is  0.30810678005218506\n"
          ]
        },
        {
          "output_type": "execute_result",
          "data": {
            "text/plain": [
              "(tensor(0.1307), tensor(0.3081))"
            ]
          },
          "metadata": {},
          "execution_count": 26
        }
      ]
    },
    {
      "cell_type": "code",
      "source": [
        "from torch.utils.data import DataLoader\n",
        "from torchvision import datasets, transforms\n",
        "\n",
        "# Define a transformation\n",
        "transform = transforms.Compose([\n",
        "    transforms.ToTensor(),\n",
        "    transforms.Normalize((0.1307,), (0.3081,))\n",
        "])\n",
        "\n",
        "# Load dataset\n",
        "train_dataset = datasets.FashionMNIST(root='/root/data', train=True, download=True, transform=transform)\n",
        "\n",
        "# Create DataLoader with multiple workers\n",
        "train_dataloader = DataLoader(train_dataset, batch_size=64, shuffle=True, num_workers=4)\n",
        "#len(train_dataloader.dataset)"
      ],
      "metadata": {
        "colab": {
          "base_uri": "https://localhost:8080/"
        },
        "id": "sgcE1n-EHTTu",
        "outputId": "012417f1-11c6-4a0d-968b-9ab35f9a00a0"
      },
      "execution_count": 27,
      "outputs": [
        {
          "output_type": "stream",
          "name": "stderr",
          "text": [
            "/usr/local/lib/python3.11/dist-packages/torch/utils/data/dataloader.py:624: UserWarning: This DataLoader will create 4 worker processes in total. Our suggested max number of worker in current system is 2, which is smaller than what this DataLoader is going to create. Please be aware that excessive worker creation might get DataLoader running slow or even freeze, lower the worker number to avoid potential slowness/freeze if necessary.\n",
            "  warnings.warn(\n"
          ]
        }
      ]
    },
    {
      "cell_type": "code",
      "source": [
        "test_dataset = datasets.FashionMNIST(root='/root/data', train=False, download=True, transform=transform)\n",
        "test_loader = DataLoader(test_dataset, batch_size=64, shuffle=False, num_workers=4)"
      ],
      "metadata": {
        "colab": {
          "base_uri": "https://localhost:8080/"
        },
        "id": "bhjZkoWpIdIG",
        "outputId": "4f855d76-c42c-4495-8eb1-5c55e69e8a1f"
      },
      "execution_count": 28,
      "outputs": [
        {
          "output_type": "stream",
          "name": "stderr",
          "text": [
            "/usr/local/lib/python3.11/dist-packages/torch/utils/data/dataloader.py:624: UserWarning: This DataLoader will create 4 worker processes in total. Our suggested max number of worker in current system is 2, which is smaller than what this DataLoader is going to create. Please be aware that excessive worker creation might get DataLoader running slow or even freeze, lower the worker number to avoid potential slowness/freeze if necessary.\n",
            "  warnings.warn(\n"
          ]
        }
      ]
    },
    {
      "cell_type": "code",
      "source": [
        "len(train_dataset)"
      ],
      "metadata": {
        "colab": {
          "base_uri": "https://localhost:8080/"
        },
        "id": "kjpGgDAPj2C-",
        "outputId": "26db27c3-cb70-4b39-897e-06bf2193a4b1"
      },
      "execution_count": 29,
      "outputs": [
        {
          "output_type": "execute_result",
          "data": {
            "text/plain": [
              "60000"
            ]
          },
          "metadata": {},
          "execution_count": 29
        }
      ]
    },
    {
      "cell_type": "code",
      "source": [
        "len(test_dataset)"
      ],
      "metadata": {
        "colab": {
          "base_uri": "https://localhost:8080/"
        },
        "id": "EMWduM27j5Hi",
        "outputId": "ad383a4a-b52f-488c-a52d-c8449b6e5889"
      },
      "execution_count": 30,
      "outputs": [
        {
          "output_type": "execute_result",
          "data": {
            "text/plain": [
              "10000"
            ]
          },
          "metadata": {},
          "execution_count": 30
        }
      ]
    },
    {
      "cell_type": "markdown",
      "source": [
        "### What is a validation dataset? How do we obtain a validation dataset for Fashion Mnist?\n",
        "\n",
        "Hint: Use random_split method"
      ],
      "metadata": {
        "id": "3S4iRn-HIiyM"
      }
    },
    {
      "cell_type": "code",
      "source": [
        "### What is the size of the training and testing datasets?\n",
        "print(len(train_dataloader.dataset))\n",
        "print(len(test_loader.dataset))"
      ],
      "metadata": {
        "colab": {
          "base_uri": "https://localhost:8080/"
        },
        "id": "6VuZz2NaIhCc",
        "outputId": "d87a1ce5-4fd1-49a3-8983-dccaa29bc908"
      },
      "execution_count": 8,
      "outputs": [
        {
          "output_type": "stream",
          "name": "stdout",
          "text": [
            "60000\n",
            "10000\n"
          ]
        }
      ]
    },
    {
      "cell_type": "code",
      "source": [
        "# split the training dataset into training and validation datasets\n",
        "train_dataset,valid_dataset = torch.utils.data.random_split(train_dataset,[50000,10000])\n",
        "\n",
        "train_dataloader = DataLoader(train_dataset, batch_size=64, shuffle=True, num_workers=4)\n",
        "valid_loader = torch.utils.data.DataLoader(valid_dataset, batch_size=64, shuffle=True)\n",
        "\n",
        "print(f\"Training dataset size: {len(train_dataloader.dataset)}\")\n",
        "print(f\"Validation dataset size: {len(valid_loader.dataset)}\")"
      ],
      "metadata": {
        "colab": {
          "base_uri": "https://localhost:8080/"
        },
        "id": "O3ZIKtjDIwhH",
        "outputId": "f1034276-2385-4529-c1a6-e02a3395c521"
      },
      "execution_count": 31,
      "outputs": [
        {
          "output_type": "stream",
          "name": "stdout",
          "text": [
            "Training dataset size: 50000\n",
            "Validation dataset size: 10000\n"
          ]
        },
        {
          "output_type": "stream",
          "name": "stderr",
          "text": [
            "/usr/local/lib/python3.11/dist-packages/torch/utils/data/dataloader.py:624: UserWarning: This DataLoader will create 4 worker processes in total. Our suggested max number of worker in current system is 2, which is smaller than what this DataLoader is going to create. Please be aware that excessive worker creation might get DataLoader running slow or even freeze, lower the worker number to avoid potential slowness/freeze if necessary.\n",
            "  warnings.warn(\n"
          ]
        }
      ]
    },
    {
      "cell_type": "markdown",
      "source": [
        "### 🤔❓Do you remember the old training loop?\n",
        "### Let's recap From last session"
      ],
      "metadata": {
        "id": "4Y9Aed1wJXpe"
      }
    },
    {
      "cell_type": "markdown",
      "source": [
        "#### 1. Training NNs"
      ],
      "metadata": {
        "id": "czmY9V8oOo_C"
      }
    },
    {
      "cell_type": "code",
      "execution_count": 46,
      "metadata": {
        "tags": [],
        "id": "116832c7"
      },
      "outputs": [],
      "source": [
        "import torch\n",
        "import torch.nn as nn\n",
        "import torch.optim as optim\n",
        "import torch.nn.init as init\n",
        "\n",
        "\n",
        "# Define your neural network architecture\n",
        "class NeuralNet(nn.Module): #inheretence concept\n",
        "    def __init__(self):\n",
        "        super(NeuralNet, self).__init__()\n",
        "        self.flatten = nn.Flatten()\n",
        "        self.relu = nn.ReLU() #whether you will use this many times or not , Define it once\n",
        "        self.fc1 = nn.Linear(784, 256) # Common approach 2^n\n",
        "\n",
        "        init.uniform_(self.fc1.weight,a=0.1, b=1.1)\n",
        "        init.zeros_(self.fc1.bias)\n",
        "\n",
        "        self.fc2 = nn.Linear(256, 10) #why 10 ?\n",
        "        init.xavier_uniform_(self.fc2.weight, gain=1.1)\n",
        "\n",
        "\n",
        "\n",
        "    def forward(self, x):\n",
        "        x = self.flatten(x) # 28x28 --> 784\n",
        "        x = self.fc1(x)   # 784 --> 256\n",
        "        x = self.relu(x)\n",
        "        x = self.fc2(x) # 256-->10 #Is dependent on the loss you will use\n",
        "        #x = torch.softmax(x, dim=1)\n",
        "        return x\n",
        "\n",
        "\n",
        "# Instantiate the neural network\n",
        "model = NeuralNet()\n",
        "\n",
        "# Define the loss function and optimizer\n",
        "criterion = nn.CrossEntropyLoss() #Classification or regression?\n",
        "optimizer = optim.SGD(model.parameters(), lr=0.01)\n",
        "\n"
      ]
    },
    {
      "cell_type": "code",
      "source": [
        "print(model.fc2.weight)"
      ],
      "metadata": {
        "colab": {
          "base_uri": "https://localhost:8080/"
        },
        "id": "0506CXUMy_vv",
        "outputId": "45ecd218-9f78-4eea-ccb9-e19db7be8bf2"
      },
      "execution_count": 47,
      "outputs": [
        {
          "output_type": "stream",
          "name": "stdout",
          "text": [
            "Parameter containing:\n",
            "tensor([[-0.0839,  0.1179, -0.0404,  ..., -0.0862, -0.1351, -0.0470],\n",
            "        [-0.0065, -0.1045, -0.0907,  ..., -0.0697,  0.0778, -0.1648],\n",
            "        [-0.0412, -0.0474,  0.0884,  ..., -0.1538,  0.0573, -0.1151],\n",
            "        ...,\n",
            "        [ 0.0640,  0.1267, -0.1010,  ...,  0.0391, -0.0889, -0.0923],\n",
            "        [-0.1375,  0.0940, -0.0640,  ...,  0.0684, -0.0712,  0.1580],\n",
            "        [-0.0296,  0.0239,  0.0400,  ..., -0.1265,  0.0825, -0.1595]],\n",
            "       requires_grad=True)\n"
          ]
        }
      ]
    },
    {
      "cell_type": "markdown",
      "source": [
        "#### 2. Create a training Loop"
      ],
      "metadata": {
        "id": "n2uTPIS8RDlg"
      }
    },
    {
      "cell_type": "code",
      "source": [],
      "metadata": {
        "id": "IHw39ySFy4Te"
      },
      "execution_count": null,
      "outputs": []
    },
    {
      "cell_type": "code",
      "source": [
        "# Train the neural network\n",
        "Epochs = 10\n",
        "for epoch in range(Epochs): # 10  Epochs\n",
        "    # ToDo: put the model in the training mode\n",
        "    #✍️✍️✍️\n",
        "    model.train()\n",
        "    running_loss = 0.0\n",
        "    for inputs, labels in train_dataloader: #looping the batches\n",
        "\n",
        "\n",
        "        # Zero the gradients\n",
        "        optimizer.zero_grad()  #ensures that the gradients are cleared or reset to zero before the next forward-backward pass.\n",
        "\n",
        "        # Forward pass\n",
        "        outputs = model(inputs)\n",
        "        loss = criterion(outputs, labels)\n",
        "\n",
        "        # Backward pass and optimization\n",
        "        loss.backward() #calculate the gradients\n",
        "        #update our weights of each Batch\n",
        "        optimizer.step()\n",
        "\n",
        "        running_loss += loss.item() #accumulating losses over batches\n",
        "\n",
        "    print(f\"Epoch {epoch+1}: Loss = {running_loss/len(train_dataloader)}\") # Batch loss=Total losses/number of batches\n",
        "\n",
        "    #ToDo: Print accuracies alongside losses. Hint: Use torch.max\n",
        "    #✍️✍️✍️\n"
      ],
      "metadata": {
        "colab": {
          "base_uri": "https://localhost:8080/"
        },
        "id": "bElgAVZ5RE84",
        "outputId": "f2009b3a-8ff9-48fb-b0f2-f53391d192a0"
      },
      "execution_count": null,
      "outputs": [
        {
          "output_type": "stream",
          "name": "stdout",
          "text": [
            "Epoch 1: Loss = 0.7870230731615888\n",
            "Epoch 2: Loss = 0.5187755208343331\n",
            "Epoch 3: Loss = 0.46934768727529785\n",
            "Epoch 4: Loss = 0.4415076993612338\n",
            "Epoch 5: Loss = 0.4218966888942952\n",
            "Epoch 6: Loss = 0.40662452397443083\n",
            "Epoch 7: Loss = 0.39376352547900256\n",
            "Epoch 8: Loss = 0.3834213175054298\n",
            "Epoch 9: Loss = 0.37389667356001544\n",
            "Epoch 10: Loss = 0.3654191573895117\n"
          ]
        }
      ]
    },
    {
      "cell_type": "markdown",
      "source": [
        "### Let's create another training loop:\n",
        "\n",
        "Use the new `train_loader` and `valid_loader`"
      ],
      "metadata": {
        "id": "mJqoRY0bKDYD"
      }
    },
    {
      "cell_type": "code",
      "source": [
        "# Train the neural network\n",
        "Epochs = 10\n",
        "training_losses = []\n",
        "validation_losses = []\n",
        "\n",
        "\n",
        "for epoch in range(Epochs): # 10  Epochs\n",
        "    # ToDo: put the model in the training mode\n",
        "    #✍️✍️✍️\n",
        "    model.train()\n",
        "    running_loss = 0.0\n",
        "    valid_loss = 0.0\n",
        "    for inputs, labels in train_dataloader: #looping the batches\n",
        "\n",
        "\n",
        "        # Zero the gradients\n",
        "        optimizer.zero_grad()  #ensures that the gradients are cleared or reset to zero before the next forward-backward pass.\n",
        "\n",
        "        # Forward pass\n",
        "        outputs = model(inputs)\n",
        "        loss = criterion(outputs, labels)\n",
        "\n",
        "        # Backward pass and optimization\n",
        "        loss.backward() #calculate the gradients\n",
        "        #update our weights of each Batch\n",
        "        optimizer.step()\n",
        "\n",
        "        running_loss += loss.item() #accumulating losses over batches\n",
        "\n",
        "    total_loss = running_loss/len(train_dataloader)\n",
        "    training_losses.append(total_loss)\n",
        "    print(f\"Epoch {epoch+1}: Loss = {total_loss}\") # Batch loss=Total losses/number of batches\n",
        "\n",
        "    model.eval()\n",
        "    for inputs, labels in valid_loader: #looping the batches\n",
        "\n",
        "\n",
        "        # Forward pass\n",
        "        outputs = model(inputs)\n",
        "        loss = criterion(outputs, labels)\n",
        "\n",
        "        valid_loss += loss.item() #accumulating losses over batches\n",
        "\n",
        "    total_loss = valid_loss/len(valid_loader)\n",
        "    validation_losses.append(total_loss)\n",
        "    print(f\"Epoch {epoch+1}: Loss = {total_loss}\") # Batch loss=Total losses/number of batches"
      ],
      "metadata": {
        "colab": {
          "base_uri": "https://localhost:8080/"
        },
        "id": "vvuOKXzXmAxL",
        "outputId": "47c1d83a-ce60-4d94-a630-3525a5cfca4a"
      },
      "execution_count": 32,
      "outputs": [
        {
          "output_type": "stream",
          "name": "stderr",
          "text": [
            "/usr/local/lib/python3.11/dist-packages/torch/utils/data/dataloader.py:624: UserWarning: This DataLoader will create 4 worker processes in total. Our suggested max number of worker in current system is 2, which is smaller than what this DataLoader is going to create. Please be aware that excessive worker creation might get DataLoader running slow or even freeze, lower the worker number to avoid potential slowness/freeze if necessary.\n",
            "  warnings.warn(\n"
          ]
        },
        {
          "output_type": "stream",
          "name": "stdout",
          "text": [
            "Epoch 1: Loss = 0.5969221444081163\n",
            "Epoch 1: Loss = 0.5002588707550316\n"
          ]
        },
        {
          "output_type": "stream",
          "name": "stderr",
          "text": [
            "/usr/local/lib/python3.11/dist-packages/torch/utils/data/dataloader.py:624: UserWarning: This DataLoader will create 4 worker processes in total. Our suggested max number of worker in current system is 2, which is smaller than what this DataLoader is going to create. Please be aware that excessive worker creation might get DataLoader running slow or even freeze, lower the worker number to avoid potential slowness/freeze if necessary.\n",
            "  warnings.warn(\n"
          ]
        },
        {
          "output_type": "stream",
          "name": "stdout",
          "text": [
            "Epoch 2: Loss = 0.4434153746880229\n",
            "Epoch 2: Loss = 0.49950206792278656\n"
          ]
        },
        {
          "output_type": "stream",
          "name": "stderr",
          "text": [
            "/usr/local/lib/python3.11/dist-packages/torch/utils/data/dataloader.py:624: UserWarning: This DataLoader will create 4 worker processes in total. Our suggested max number of worker in current system is 2, which is smaller than what this DataLoader is going to create. Please be aware that excessive worker creation might get DataLoader running slow or even freeze, lower the worker number to avoid potential slowness/freeze if necessary.\n",
            "  warnings.warn(\n"
          ]
        },
        {
          "output_type": "stream",
          "name": "stdout",
          "text": [
            "Epoch 3: Loss = 0.4055026730956019\n",
            "Epoch 3: Loss = 0.41825512545123983\n"
          ]
        },
        {
          "output_type": "stream",
          "name": "stderr",
          "text": [
            "/usr/local/lib/python3.11/dist-packages/torch/utils/data/dataloader.py:624: UserWarning: This DataLoader will create 4 worker processes in total. Our suggested max number of worker in current system is 2, which is smaller than what this DataLoader is going to create. Please be aware that excessive worker creation might get DataLoader running slow or even freeze, lower the worker number to avoid potential slowness/freeze if necessary.\n",
            "  warnings.warn(\n"
          ]
        },
        {
          "output_type": "stream",
          "name": "stdout",
          "text": [
            "Epoch 4: Loss = 0.3823337801886946\n",
            "Epoch 4: Loss = 0.40947452481764895\n"
          ]
        },
        {
          "output_type": "stream",
          "name": "stderr",
          "text": [
            "/usr/local/lib/python3.11/dist-packages/torch/utils/data/dataloader.py:624: UserWarning: This DataLoader will create 4 worker processes in total. Our suggested max number of worker in current system is 2, which is smaller than what this DataLoader is going to create. Please be aware that excessive worker creation might get DataLoader running slow or even freeze, lower the worker number to avoid potential slowness/freeze if necessary.\n",
            "  warnings.warn(\n"
          ]
        },
        {
          "output_type": "stream",
          "name": "stdout",
          "text": [
            "Epoch 5: Loss = 0.365036198740725\n",
            "Epoch 5: Loss = 0.4038803956121396\n"
          ]
        },
        {
          "output_type": "stream",
          "name": "stderr",
          "text": [
            "/usr/local/lib/python3.11/dist-packages/torch/utils/data/dataloader.py:624: UserWarning: This DataLoader will create 4 worker processes in total. Our suggested max number of worker in current system is 2, which is smaller than what this DataLoader is going to create. Please be aware that excessive worker creation might get DataLoader running slow or even freeze, lower the worker number to avoid potential slowness/freeze if necessary.\n",
            "  warnings.warn(\n"
          ]
        },
        {
          "output_type": "stream",
          "name": "stdout",
          "text": [
            "Epoch 6: Loss = 0.351627932161169\n",
            "Epoch 6: Loss = 0.4023669956216387\n"
          ]
        },
        {
          "output_type": "stream",
          "name": "stderr",
          "text": [
            "/usr/local/lib/python3.11/dist-packages/torch/utils/data/dataloader.py:624: UserWarning: This DataLoader will create 4 worker processes in total. Our suggested max number of worker in current system is 2, which is smaller than what this DataLoader is going to create. Please be aware that excessive worker creation might get DataLoader running slow or even freeze, lower the worker number to avoid potential slowness/freeze if necessary.\n",
            "  warnings.warn(\n"
          ]
        },
        {
          "output_type": "stream",
          "name": "stdout",
          "text": [
            "Epoch 7: Loss = 0.34107910010896986\n",
            "Epoch 7: Loss = 0.3653202087256559\n"
          ]
        },
        {
          "output_type": "stream",
          "name": "stderr",
          "text": [
            "/usr/local/lib/python3.11/dist-packages/torch/utils/data/dataloader.py:624: UserWarning: This DataLoader will create 4 worker processes in total. Our suggested max number of worker in current system is 2, which is smaller than what this DataLoader is going to create. Please be aware that excessive worker creation might get DataLoader running slow or even freeze, lower the worker number to avoid potential slowness/freeze if necessary.\n",
            "  warnings.warn(\n"
          ]
        },
        {
          "output_type": "stream",
          "name": "stdout",
          "text": [
            "Epoch 8: Loss = 0.32894285773034293\n",
            "Epoch 8: Loss = 0.36173116097784347\n"
          ]
        },
        {
          "output_type": "stream",
          "name": "stderr",
          "text": [
            "/usr/local/lib/python3.11/dist-packages/torch/utils/data/dataloader.py:624: UserWarning: This DataLoader will create 4 worker processes in total. Our suggested max number of worker in current system is 2, which is smaller than what this DataLoader is going to create. Please be aware that excessive worker creation might get DataLoader running slow or even freeze, lower the worker number to avoid potential slowness/freeze if necessary.\n",
            "  warnings.warn(\n"
          ]
        },
        {
          "output_type": "stream",
          "name": "stdout",
          "text": [
            "Epoch 9: Loss = 0.3206980567034858\n",
            "Epoch 9: Loss = 0.36849034136267983\n"
          ]
        },
        {
          "output_type": "stream",
          "name": "stderr",
          "text": [
            "/usr/local/lib/python3.11/dist-packages/torch/utils/data/dataloader.py:624: UserWarning: This DataLoader will create 4 worker processes in total. Our suggested max number of worker in current system is 2, which is smaller than what this DataLoader is going to create. Please be aware that excessive worker creation might get DataLoader running slow or even freeze, lower the worker number to avoid potential slowness/freeze if necessary.\n",
            "  warnings.warn(\n"
          ]
        },
        {
          "output_type": "stream",
          "name": "stdout",
          "text": [
            "Epoch 10: Loss = 0.3121080047753461\n",
            "Epoch 10: Loss = 0.3648009179693878\n"
          ]
        }
      ]
    },
    {
      "cell_type": "code",
      "source": [
        "print(f\"training losses {training_losses}\")\n",
        "print(f\"validation losses {validation_losses}\")"
      ],
      "metadata": {
        "colab": {
          "base_uri": "https://localhost:8080/"
        },
        "id": "1I9cpdelpEgN",
        "outputId": "d871d3b5-d53a-4448-b61b-f97de5d9e44d"
      },
      "execution_count": 34,
      "outputs": [
        {
          "output_type": "stream",
          "name": "stdout",
          "text": [
            "training losses [0.5969221444081163, 0.4434153746880229, 0.4055026730956019, 0.3823337801886946, 0.365036198740725, 0.351627932161169, 0.34107910010896986, 0.32894285773034293, 0.3206980567034858, 0.3121080047753461]\n",
            "validation losses [0.5002588707550316, 0.49950206792278656, 0.41825512545123983, 0.40947452481764895, 0.4038803956121396, 0.4023669956216387, 0.3653202087256559, 0.36173116097784347, 0.36849034136267983, 0.3648009179693878]\n"
          ]
        }
      ]
    },
    {
      "cell_type": "markdown",
      "source": [
        "### ✍️ ToDO: Save training and validation losses in lists and use them to plot a line plot of losses (training and validation) during training. Explain what is done\n",
        "\n",
        "Feel free to use Gemini"
      ],
      "metadata": {
        "id": "9GJPmG2XSB6T"
      }
    },
    {
      "cell_type": "code",
      "source": [
        "import matplotlib.pyplot as plt\n",
        "\n",
        "plt.plot(training_losses, label='Training Loss')\n",
        "plt.plot(validation_losses, label='Validation Loss')\n",
        "plt.xlabel('Epoch')\n",
        "plt.ylabel('Loss')\n",
        "plt.title('Training and Validation Loss during Training')\n",
        "plt.legend()\n",
        "plt.show()"
      ],
      "metadata": {
        "colab": {
          "base_uri": "https://localhost:8080/",
          "height": 472
        },
        "id": "I0OVO218LTrX",
        "outputId": "bb375e40-0148-4e7a-99b1-1eccc9ed2d7c"
      },
      "execution_count": 35,
      "outputs": [
        {
          "output_type": "display_data",
          "data": {
            "text/plain": [
              "<Figure size 640x480 with 1 Axes>"
            ],
            "image/png": "[encoded data removed]"
          },
          "metadata": {}
        }
      ]
    },
    {
      "cell_type": "code",
      "source": [
        "# Plot the training and validation loss history\n",
        "plt.plot(training_losses, label=\"Training Loss\")\n",
        "plt.plot(validation_losses, label=\"Validation Loss\")\n",
        "plt.legend()\n",
        "plt.show()"
      ],
      "metadata": {
        "colab": {
          "base_uri": "https://localhost:8080/",
          "height": 430
        },
        "id": "9-YeYGpqqIAT",
        "outputId": "eb8208e4-919e-41b2-c437-effc1a93d05e"
      },
      "execution_count": 36,
      "outputs": [
        {
          "output_type": "display_data",
          "data": {
            "text/plain": [
              "<Figure size 640x480 with 1 Axes>"
            ],
            "image/png": "[encoded data removed]"
          },
          "metadata": {}
        }
      ]
    },
    {
      "cell_type": "markdown",
      "source": [
        "### ✍️ ToDO: Save the model with the lowest validation loss and explain your code\n",
        "\n",
        "Feel free to use Gemini"
      ],
      "metadata": {
        "id": "tqLtq-uDLlRf"
      }
    },
    {
      "cell_type": "code",
      "source": [
        "# Train the neural network\n",
        "Epochs = 10\n",
        "training_losses = []\n",
        "validation_losses = []\n",
        "best_val_loss = float('inf') #A very big number approaching infinity\n",
        "\n",
        "\n",
        "for epoch in range(Epochs): # 10  Epochs\n",
        "    # ToDo: put the model in the training mode\n",
        "    #✍️✍️✍️\n",
        "    model.train()\n",
        "    running_loss = 0.0\n",
        "    valid_loss = 0.0\n",
        "    for inputs, labels in train_dataloader: #looping the batches\n",
        "\n",
        "\n",
        "        # Zero the gradients\n",
        "        optimizer.zero_grad()  #ensures that the gradients are cleared or reset to zero before the next forward-backward pass.\n",
        "\n",
        "        # Forward pass\n",
        "        outputs = model(inputs)\n",
        "        loss = criterion(outputs, labels)\n",
        "\n",
        "        # Backward pass and optimization\n",
        "        loss.backward() #calculate the gradients\n",
        "        #update our weights of each Batch\n",
        "        optimizer.step()\n",
        "\n",
        "        running_loss += loss.item() #accumulating losses over batches\n",
        "\n",
        "    total_loss = running_loss/len(train_dataloader)\n",
        "    training_losses.append(total_loss)\n",
        "    print(f\"Epoch {epoch+1}: Loss = {total_loss}\") # Batch loss=Total losses/number of batches\n",
        "\n",
        "    model.eval()\n",
        "    for inputs, labels in valid_loader: #looping the batches\n",
        "\n",
        "\n",
        "        # Forward pass\n",
        "        outputs = model(inputs)\n",
        "        loss = criterion(outputs, labels)\n",
        "\n",
        "        valid_loss += loss.item() #accumulating losses over batches\n",
        "\n",
        "    total_loss = valid_loss/len(valid_loader)\n",
        "    validation_losses.append(total_loss)\n",
        "    print(f\"Epoch {epoch+1}: Loss = {total_loss}\") # Batch loss=Total losses/number of batches\n",
        "    if total_loss < best_val_loss:\n",
        "      best_val_loss = total_loss\n",
        "      best_state_dict = model.state_dict()\n",
        "\n",
        "torch.save(best_state_dict, 'best_model.pth') # GJ Asmaa :D"
      ],
      "metadata": {
        "colab": {
          "base_uri": "https://localhost:8080/"
        },
        "id": "va4AL2_7UINV",
        "outputId": "8849bd51-4520-414f-f822-3aa38c07ee52"
      },
      "execution_count": 37,
      "outputs": [
        {
          "output_type": "stream",
          "name": "stderr",
          "text": [
            "/usr/local/lib/python3.11/dist-packages/torch/utils/data/dataloader.py:624: UserWarning: This DataLoader will create 4 worker processes in total. Our suggested max number of worker in current system is 2, which is smaller than what this DataLoader is going to create. Please be aware that excessive worker creation might get DataLoader running slow or even freeze, lower the worker number to avoid potential slowness/freeze if necessary.\n",
            "  warnings.warn(\n"
          ]
        },
        {
          "output_type": "stream",
          "name": "stdout",
          "text": [
            "Epoch 1: Loss = 0.30470900154670183\n",
            "Epoch 1: Loss = 0.3603500742821177\n"
          ]
        },
        {
          "output_type": "stream",
          "name": "stderr",
          "text": [
            "/usr/local/lib/python3.11/dist-packages/torch/utils/data/dataloader.py:624: UserWarning: This DataLoader will create 4 worker processes in total. Our suggested max number of worker in current system is 2, which is smaller than what this DataLoader is going to create. Please be aware that excessive worker creation might get DataLoader running slow or even freeze, lower the worker number to avoid potential slowness/freeze if necessary.\n",
            "  warnings.warn(\n"
          ]
        },
        {
          "output_type": "stream",
          "name": "stdout",
          "text": [
            "Epoch 2: Loss = 0.2984904397917373\n",
            "Epoch 2: Loss = 0.3387042514647648\n"
          ]
        },
        {
          "output_type": "stream",
          "name": "stderr",
          "text": [
            "/usr/local/lib/python3.11/dist-packages/torch/utils/data/dataloader.py:624: UserWarning: This DataLoader will create 4 worker processes in total. Our suggested max number of worker in current system is 2, which is smaller than what this DataLoader is going to create. Please be aware that excessive worker creation might get DataLoader running slow or even freeze, lower the worker number to avoid potential slowness/freeze if necessary.\n",
            "  warnings.warn(\n"
          ]
        },
        {
          "output_type": "stream",
          "name": "stdout",
          "text": [
            "Epoch 3: Loss = 0.2902717725338076\n",
            "Epoch 3: Loss = 0.33151998280719586\n"
          ]
        },
        {
          "output_type": "stream",
          "name": "stderr",
          "text": [
            "/usr/local/lib/python3.11/dist-packages/torch/utils/data/dataloader.py:624: UserWarning: This DataLoader will create 4 worker processes in total. Our suggested max number of worker in current system is 2, which is smaller than what this DataLoader is going to create. Please be aware that excessive worker creation might get DataLoader running slow or even freeze, lower the worker number to avoid potential slowness/freeze if necessary.\n",
            "  warnings.warn(\n"
          ]
        },
        {
          "output_type": "stream",
          "name": "stdout",
          "text": [
            "Epoch 4: Loss = 0.28472789489399747\n",
            "Epoch 4: Loss = 0.3591884320518773\n"
          ]
        },
        {
          "output_type": "stream",
          "name": "stderr",
          "text": [
            "/usr/local/lib/python3.11/dist-packages/torch/utils/data/dataloader.py:624: UserWarning: This DataLoader will create 4 worker processes in total. Our suggested max number of worker in current system is 2, which is smaller than what this DataLoader is going to create. Please be aware that excessive worker creation might get DataLoader running slow or even freeze, lower the worker number to avoid potential slowness/freeze if necessary.\n",
            "  warnings.warn(\n"
          ]
        },
        {
          "output_type": "stream",
          "name": "stdout",
          "text": [
            "Epoch 5: Loss = 0.2804859746199892\n",
            "Epoch 5: Loss = 0.3868009879425832\n"
          ]
        },
        {
          "output_type": "stream",
          "name": "stderr",
          "text": [
            "/usr/local/lib/python3.11/dist-packages/torch/utils/data/dataloader.py:624: UserWarning: This DataLoader will create 4 worker processes in total. Our suggested max number of worker in current system is 2, which is smaller than what this DataLoader is going to create. Please be aware that excessive worker creation might get DataLoader running slow or even freeze, lower the worker number to avoid potential slowness/freeze if necessary.\n",
            "  warnings.warn(\n"
          ]
        },
        {
          "output_type": "stream",
          "name": "stdout",
          "text": [
            "Epoch 6: Loss = 0.2739608609939323\n",
            "Epoch 6: Loss = 0.3217357052549435\n"
          ]
        },
        {
          "output_type": "stream",
          "name": "stderr",
          "text": [
            "/usr/local/lib/python3.11/dist-packages/torch/utils/data/dataloader.py:624: UserWarning: This DataLoader will create 4 worker processes in total. Our suggested max number of worker in current system is 2, which is smaller than what this DataLoader is going to create. Please be aware that excessive worker creation might get DataLoader running slow or even freeze, lower the worker number to avoid potential slowness/freeze if necessary.\n",
            "  warnings.warn(\n"
          ]
        },
        {
          "output_type": "stream",
          "name": "stdout",
          "text": [
            "Epoch 7: Loss = 0.2691384363833748\n",
            "Epoch 7: Loss = 0.32724509345498054\n"
          ]
        },
        {
          "output_type": "stream",
          "name": "stderr",
          "text": [
            "/usr/local/lib/python3.11/dist-packages/torch/utils/data/dataloader.py:624: UserWarning: This DataLoader will create 4 worker processes in total. Our suggested max number of worker in current system is 2, which is smaller than what this DataLoader is going to create. Please be aware that excessive worker creation might get DataLoader running slow or even freeze, lower the worker number to avoid potential slowness/freeze if necessary.\n",
            "  warnings.warn(\n"
          ]
        },
        {
          "output_type": "stream",
          "name": "stdout",
          "text": [
            "Epoch 8: Loss = 0.2639665638032319\n",
            "Epoch 8: Loss = 0.3300118577328457\n"
          ]
        },
        {
          "output_type": "stream",
          "name": "stderr",
          "text": [
            "/usr/local/lib/python3.11/dist-packages/torch/utils/data/dataloader.py:624: UserWarning: This DataLoader will create 4 worker processes in total. Our suggested max number of worker in current system is 2, which is smaller than what this DataLoader is going to create. Please be aware that excessive worker creation might get DataLoader running slow or even freeze, lower the worker number to avoid potential slowness/freeze if necessary.\n",
            "  warnings.warn(\n"
          ]
        },
        {
          "output_type": "stream",
          "name": "stdout",
          "text": [
            "Epoch 9: Loss = 0.2596530142857138\n",
            "Epoch 9: Loss = 0.3155978689812551\n"
          ]
        },
        {
          "output_type": "stream",
          "name": "stderr",
          "text": [
            "/usr/local/lib/python3.11/dist-packages/torch/utils/data/dataloader.py:624: UserWarning: This DataLoader will create 4 worker processes in total. Our suggested max number of worker in current system is 2, which is smaller than what this DataLoader is going to create. Please be aware that excessive worker creation might get DataLoader running slow or even freeze, lower the worker number to avoid potential slowness/freeze if necessary.\n",
            "  warnings.warn(\n"
          ]
        },
        {
          "output_type": "stream",
          "name": "stdout",
          "text": [
            "Epoch 10: Loss = 0.25516135375136917\n",
            "Epoch 10: Loss = 0.3377969369387171\n"
          ]
        }
      ]
    },
    {
      "cell_type": "markdown",
      "source": [
        "### ✍️ToDO: Ask Gemini,\n",
        "For the previously created network what was the initialization technique used ? what is the default technique?\n"
      ],
      "metadata": {
        "id": "sLCV1xIGUJOh"
      }
    },
    {
      "cell_type": "markdown",
      "source": [
        "Uniform distribution for weights of the linear layer and zero bias."
      ],
      "metadata": {
        "id": "AOutUb0F08sc"
      }
    },
    {
      "cell_type": "markdown",
      "source": [
        "### Dislay some layers weghts and biases values"
      ],
      "metadata": {
        "id": "ScqSOa-GUbS4"
      }
    },
    {
      "cell_type": "code",
      "source": [
        "# Print the initialized weights\n",
        "print(\"fc1 weight:\", model.fc1.weight)\n",
        "## To Do : Print the mean and standard deviation of FC1 weights\n",
        "print(f\"fc1 weight Mean: {torch.mean(model.fc1.weight)}, STD: {torch.std(model.fc1.weight)}\")\n",
        "## To Do : Print the maximum and minimum values of FC1 weights\n",
        "print(f\"fc1 weight Max: {torch.max(model.fc1.weight)}, Min: {torch.min(model.fc1.weight)}\" )\n",
        "\n",
        "#[256, 784].[784,1] =  [256,1]\n",
        "print(\"fc1 bias:\", model.fc1.bias)\n",
        "## To Do : Print the maximum and minimum values of FC1 biases\n",
        "print(f\" fc1 bias max and min is: {torch.max(model.fc1.bias)} and {torch.max(model.fc1.bias)}.\")\n",
        "## To Do : Print the mean and standard deviation of FC1 biases\n",
        "print(f\" fci mean max and std is: {torch.mean(model.fc1.bias)} and {torch.std(model.fc1.bias)}.\")\n",
        "\n"
      ],
      "metadata": {
        "colab": {
          "base_uri": "https://localhost:8080/"
        },
        "id": "A09xltYxUf6f",
        "outputId": "96e3d126-9717-4709-b08a-38e3ceca082c"
      },
      "execution_count": 19,
      "outputs": [
        {
          "output_type": "stream",
          "name": "stdout",
          "text": [
            "fc1 weight: Parameter containing:\n",
            "tensor([[ 0.0059,  0.0239,  0.0082,  ...,  0.0083,  0.0236,  0.0210],\n",
            "        [ 0.0106,  0.0036,  0.0231,  ...,  0.0258, -0.0327, -0.0302],\n",
            "        [-0.0233,  0.0219,  0.0034,  ..., -0.0128, -0.0086, -0.0233],\n",
            "        ...,\n",
            "        [ 0.0238,  0.0283, -0.0252,  ...,  0.0083,  0.0234, -0.0191],\n",
            "        [-0.0085, -0.0389,  0.0028,  ..., -0.0194, -0.0385, -0.0005],\n",
            "        [ 0.0088, -0.0042, -0.0037,  ...,  0.0153, -0.0220,  0.0113]],\n",
            "       requires_grad=True)\n",
            "fc1 weight Mean: -0.0008453310001641512, STD: 0.023187143728137016\n",
            "fc1 weight Max: 0.14398524165153503, Min: -0.11379247903823853\n",
            "fc1 bias: Parameter containing:\n",
            "tensor([-2.2487e-02,  2.6564e-02,  4.7801e-02, -8.7493e-03, -5.8033e-03,\n",
            "         4.8122e-02,  2.7139e-02,  2.6735e-03, -2.9842e-03,  2.6072e-02,\n",
            "        -4.8636e-03,  2.2647e-02, -2.8788e-03, -6.0293e-03, -2.4278e-02,\n",
            "         3.0824e-02,  8.8076e-03,  2.2315e-02, -1.1043e-02,  2.9916e-02,\n",
            "        -7.3484e-03, -9.4681e-03,  1.7883e-02,  4.4290e-02,  3.7823e-02,\n",
            "         5.1448e-03,  1.5600e-02,  9.2487e-04,  3.1146e-03, -2.0216e-03,\n",
            "         7.6564e-04,  1.9046e-02,  4.7975e-02,  2.6138e-02,  1.7323e-02,\n",
            "         5.8759e-02,  1.9742e-02, -6.5636e-03, -1.0354e-02, -5.6957e-03,\n",
            "         1.5786e-02, -3.1130e-02,  2.6511e-02,  1.1295e-02, -1.1880e-02,\n",
            "        -1.9270e-02, -2.7386e-02,  4.6251e-02,  3.2206e-02,  2.7644e-02,\n",
            "         2.2579e-02,  1.8572e-02, -7.6584e-03,  2.3329e-02, -1.1157e-02,\n",
            "         1.4048e-02, -1.0922e-02,  3.0345e-02,  1.9382e-02,  2.0753e-02,\n",
            "        -2.3001e-02, -2.3722e-02,  5.3771e-02,  2.4745e-03, -1.1038e-02,\n",
            "         2.2853e-02, -1.0497e-02,  3.4301e-02, -2.8834e-02,  1.2315e-02,\n",
            "         1.5999e-02, -3.5052e-03,  4.7671e-03,  3.1396e-02, -3.3950e-03,\n",
            "         7.6378e-03,  2.7470e-02, -4.2035e-03,  4.2770e-02,  1.7700e-02,\n",
            "        -2.6174e-02, -1.2956e-02,  2.7486e-02,  5.1183e-03,  1.2595e-02,\n",
            "         1.9627e-02,  5.3513e-02, -1.8555e-02, -1.9203e-02,  1.8889e-02,\n",
            "         4.1383e-02,  3.1449e-02, -3.2156e-02,  4.0774e-02,  3.5413e-02,\n",
            "        -1.9799e-02,  1.1422e-02, -1.0110e-02, -3.1792e-02,  3.4907e-03,\n",
            "         1.5133e-02, -4.2350e-03, -2.0616e-02,  2.1736e-03, -1.4041e-02,\n",
            "         2.6257e-02, -1.4656e-02, -2.7010e-02, -3.4832e-02, -1.6876e-02,\n",
            "         1.7381e-03,  3.3943e-02,  3.5320e-02, -9.1610e-04, -1.3237e-04,\n",
            "        -1.6967e-02,  3.8914e-02, -2.5558e-02,  1.9794e-02,  6.3092e-03,\n",
            "        -2.4383e-02,  1.1260e-02,  6.0808e-02,  1.3799e-02,  1.1846e-02,\n",
            "         3.9886e-02, -1.4874e-04,  2.1941e-03,  1.3871e-02, -4.0903e-02,\n",
            "         2.3204e-02, -2.6958e-02,  2.2446e-02,  1.7790e-02,  1.0529e-02,\n",
            "        -2.5756e-02,  3.4808e-02,  2.1171e-03,  2.2824e-02,  6.4323e-03,\n",
            "        -1.7463e-02,  3.7440e-02,  8.3520e-03, -2.3895e-02,  4.6996e-03,\n",
            "         4.0921e-03,  1.8616e-02,  2.2915e-02, -1.3878e-02,  3.7859e-02,\n",
            "        -2.5010e-02, -1.3653e-02, -3.3540e-02,  2.7428e-03, -1.0947e-02,\n",
            "         1.0446e-02, -1.8795e-02,  4.4541e-02, -1.3614e-02,  4.5492e-02,\n",
            "         4.4612e-02,  2.4870e-02,  8.5701e-03,  2.6566e-02, -3.8511e-02,\n",
            "        -7.4033e-03,  3.8964e-02,  1.0226e-02,  1.1650e-02,  1.8879e-03,\n",
            "        -1.2907e-02,  3.6155e-02,  1.8055e-02, -1.0336e-02,  1.3037e-02,\n",
            "         1.8296e-02, -1.7305e-02,  3.7710e-02,  2.4472e-02,  6.1409e-05,\n",
            "        -2.0918e-02, -2.6610e-02,  1.2367e-03, -1.4055e-02, -3.6989e-02,\n",
            "         1.9222e-02,  2.5105e-02, -2.7475e-04,  1.4099e-02,  2.6224e-02,\n",
            "         3.0257e-02,  2.8704e-02,  1.6631e-02, -1.5361e-02,  3.2033e-02,\n",
            "        -3.1447e-03, -1.5741e-02, -4.7197e-03,  3.7354e-02, -7.8863e-03,\n",
            "        -1.2082e-02, -8.4348e-04,  2.4553e-02,  6.4569e-03, -1.9227e-02,\n",
            "        -3.8593e-02,  2.0565e-02,  3.2824e-02,  3.9194e-03,  2.3666e-02,\n",
            "        -1.9218e-03,  8.9167e-03, -3.3659e-02, -2.3350e-02, -1.3871e-02,\n",
            "        -2.1173e-02,  2.9709e-02, -6.2644e-03,  2.2239e-02,  1.2581e-02,\n",
            "        -2.2280e-02,  1.6441e-02, -6.3040e-03,  1.1982e-02, -2.1072e-02,\n",
            "        -2.1695e-02,  2.5813e-02, -1.9874e-02, -3.9717e-03, -1.4330e-02,\n",
            "        -8.7160e-03,  3.4875e-02, -4.4796e-04, -2.7446e-02,  3.7756e-02,\n",
            "        -1.4791e-02, -1.9961e-02,  1.1853e-02,  1.6356e-02,  1.4747e-02,\n",
            "        -1.1555e-02,  7.7920e-03,  1.8199e-02,  3.3668e-02,  3.1288e-02,\n",
            "         1.0441e-02, -1.9277e-02,  3.7390e-02, -3.8525e-03, -4.9927e-03,\n",
            "         3.5219e-03,  1.1216e-02,  4.9364e-03, -3.7494e-03,  3.3636e-02,\n",
            "         3.0268e-02], requires_grad=True)\n",
            " fc1 bias max and min is: 0.06080777943134308 and 0.06080777943134308.\n",
            " fci mean max and std is: 0.006655348930507898 and 0.02224363386631012.\n"
          ]
        }
      ]
    },
    {
      "cell_type": "code",
      "source": [
        "## To Do : Print the Size of FC1 weights\n",
        "print(\"fc1 weight Size\", model.fc1.weight.shape)\n",
        "## To Do : Print the Size of FC1 biases\n",
        "print(\"fc1 Bias Size\", model.fc1.bias.shape)"
      ],
      "metadata": {
        "colab": {
          "base_uri": "https://localhost:8080/"
        },
        "id": "QH8Y8KSIU311",
        "outputId": "d5ee339c-8bed-4c3a-afc5-77ad1a5a2598"
      },
      "execution_count": 48,
      "outputs": [
        {
          "output_type": "stream",
          "name": "stdout",
          "text": [
            "fc1 weight Size torch.Size([256, 784])\n",
            "fc1 Bias Size torch.Size([256])\n"
          ]
        }
      ]
    },
    {
      "cell_type": "code",
      "source": [
        "## To Do : Print the Size of FC1 weights\n",
        "print(\"fc2 weight Size\", model.fc2.weight.shape)\n",
        "## To Do : Print the Size of FC1 biases\n",
        "print(\"fc2 Bias Size\", model.fc2.bias.shape)"
      ],
      "metadata": {
        "colab": {
          "base_uri": "https://localhost:8080/"
        },
        "id": "8ppRkzkY0ia8",
        "outputId": "ae77baec-00a2-4bb0-8268-1375b541a320"
      },
      "execution_count": 49,
      "outputs": [
        {
          "output_type": "stream",
          "name": "stdout",
          "text": [
            "fc2 weight Size torch.Size([10, 256])\n",
            "fc2 Bias Size torch.Size([10])\n"
          ]
        }
      ]
    },
    {
      "cell_type": "code",
      "source": [
        "##################################################\n",
        "print(\"fc2 weight:\", model.fc2.weight)\n",
        "print(\"fc2 bias:\", model.fc2.bias)\n"
      ],
      "metadata": {
        "colab": {
          "base_uri": "https://localhost:8080/"
        },
        "id": "B0YL7GI2VGZc",
        "outputId": "df7a77fd-845c-452d-d2b8-d29bd87b42cb"
      },
      "execution_count": 21,
      "outputs": [
        {
          "output_type": "stream",
          "name": "stdout",
          "text": [
            "fc2 weight: Parameter containing:\n",
            "tensor([[ 0.0439, -0.0498, -0.0176,  ...,  0.1091,  0.1694,  0.0928],\n",
            "        [ 0.1101, -0.0084,  0.0961,  ..., -0.1452, -0.1256, -0.0827],\n",
            "        [ 0.1105,  0.0834, -0.0491,  ...,  0.1995,  0.1013,  0.1296],\n",
            "        ...,\n",
            "        [ 0.0457,  0.1043,  0.0435,  ..., -0.1857, -0.1032, -0.0585],\n",
            "        [-0.1540, -0.0418,  0.0531,  ...,  0.0370, -0.1140, -0.0617],\n",
            "        [-0.0744,  0.0658, -0.1911,  ..., -0.0437,  0.0367, -0.1662]],\n",
            "       requires_grad=True)\n",
            "fc2 bias: Parameter containing:\n",
            "tensor([-0.0623, -0.0583,  0.0832, -0.0027, -0.0598,  0.0113,  0.1302,  0.0307,\n",
            "         0.1094, -0.0584], requires_grad=True)\n"
          ]
        }
      ]
    },
    {
      "cell_type": "markdown",
      "source": [
        "### Set initialization methods to different layers"
      ],
      "metadata": {
        "id": "MTVM8huVV_4U"
      }
    },
    {
      "cell_type": "code",
      "source": [
        "import torch\n",
        "import torch.nn as nn\n",
        "import torch.optim as optim\n",
        "import torch.nn.init as init\n",
        "\n",
        "# Define your neural network architecture\n",
        "class NeuralNet(nn.Module): #inheretence concept\n",
        "    def __init__(self):\n",
        "        super(NeuralNet, self).__init__()\n",
        "        self.flatten = nn.Flatten()\n",
        "        self.relu = nn.ReLU() #whether you will use this many times or not , Define it once\n",
        "        self.fc1 = nn.Linear(784, 256) # Common approach 2^n\n",
        "        self.fc2 = nn.Linear(256, 10) #why 10 ?\n",
        "\n",
        "       # ✍️TO DO: Initialize the weights of fc1 using Xavier initialization\n",
        "\n",
        "        init.constant_(self.fc1.bias, 0.0)\n",
        "        # Initialize the weights of fc2 using He initialization\n",
        "        init.kaiming_uniform_(self.fc2.weight, mode='fan_in', nonlinearity='relu')\n",
        "        init.constant_(self.fc2.bias, 0.0)\n",
        "\n",
        "\n",
        "    def forward(self, x):\n",
        "        x = self.flatten(x) # 28x28 --> 784\n",
        "        x = self.fc1(x)   # 784 --> 256\n",
        "        x = self.relu(x)\n",
        "        x = self.fc2(x) # 256-->10 #Is dependent on the loss you will use\n",
        "        #x = torch.softmax(x, dim=1)\n",
        "        return x\n",
        "\n",
        "\n",
        "# Instantiate the neural network\n",
        "model = NeuralNet()\n",
        "\n",
        "# Define the loss function and optimizer\n",
        "criterion = nn.CrossEntropyLoss() #Classification or regression?\n",
        "optimizer = optim.SGD(model.parameters(), lr=0.01)\n",
        "\n"
      ],
      "metadata": {
        "id": "KChowWUMVbj3"
      },
      "execution_count": 23,
      "outputs": []
    },
    {
      "cell_type": "code",
      "source": [
        "# Print the initialized weights\n",
        "print(\"fc1 weight:\", model.fc1.weight)\n",
        "print(\"fc1 bias:\", model.fc1.bias)\n",
        "print(\"fc2 weight:\", model.fc2.weight)"
      ],
      "metadata": {
        "colab": {
          "base_uri": "https://localhost:8080/"
        },
        "id": "DBeuMkDzZ3M4",
        "outputId": "11547e8c-0668-49bc-e23f-e4b0c6b09d03"
      },
      "execution_count": 24,
      "outputs": [
        {
          "output_type": "stream",
          "name": "stdout",
          "text": [
            "fc1 weight: Parameter containing:\n",
            "tensor([[ 0.0246,  0.0243, -0.0015,  ..., -0.0177,  0.0193,  0.0058],\n",
            "        [-0.0142, -0.0005,  0.0324,  ..., -0.0151, -0.0315, -0.0287],\n",
            "        [ 0.0006, -0.0254, -0.0017,  ...,  0.0251, -0.0314, -0.0319],\n",
            "        ...,\n",
            "        [ 0.0009, -0.0216,  0.0309,  ..., -0.0211,  0.0096,  0.0281],\n",
            "        [ 0.0216, -0.0053, -0.0268,  ...,  0.0082,  0.0091,  0.0054],\n",
            "        [-0.0288, -0.0107,  0.0237,  ..., -0.0204,  0.0082,  0.0024]],\n",
            "       requires_grad=True)\n",
            "fc1 bias: Parameter containing:\n",
            "tensor([0., 0., 0., 0., 0., 0., 0., 0., 0., 0., 0., 0., 0., 0., 0., 0., 0., 0., 0., 0., 0., 0., 0., 0.,\n",
            "        0., 0., 0., 0., 0., 0., 0., 0., 0., 0., 0., 0., 0., 0., 0., 0., 0., 0., 0., 0., 0., 0., 0., 0.,\n",
            "        0., 0., 0., 0., 0., 0., 0., 0., 0., 0., 0., 0., 0., 0., 0., 0., 0., 0., 0., 0., 0., 0., 0., 0.,\n",
            "        0., 0., 0., 0., 0., 0., 0., 0., 0., 0., 0., 0., 0., 0., 0., 0., 0., 0., 0., 0., 0., 0., 0., 0.,\n",
            "        0., 0., 0., 0., 0., 0., 0., 0., 0., 0., 0., 0., 0., 0., 0., 0., 0., 0., 0., 0., 0., 0., 0., 0.,\n",
            "        0., 0., 0., 0., 0., 0., 0., 0., 0., 0., 0., 0., 0., 0., 0., 0., 0., 0., 0., 0., 0., 0., 0., 0.,\n",
            "        0., 0., 0., 0., 0., 0., 0., 0., 0., 0., 0., 0., 0., 0., 0., 0., 0., 0., 0., 0., 0., 0., 0., 0.,\n",
            "        0., 0., 0., 0., 0., 0., 0., 0., 0., 0., 0., 0., 0., 0., 0., 0., 0., 0., 0., 0., 0., 0., 0., 0.,\n",
            "        0., 0., 0., 0., 0., 0., 0., 0., 0., 0., 0., 0., 0., 0., 0., 0., 0., 0., 0., 0., 0., 0., 0., 0.,\n",
            "        0., 0., 0., 0., 0., 0., 0., 0., 0., 0., 0., 0., 0., 0., 0., 0., 0., 0., 0., 0., 0., 0., 0., 0.,\n",
            "        0., 0., 0., 0., 0., 0., 0., 0., 0., 0., 0., 0., 0., 0., 0., 0.],\n",
            "       requires_grad=True)\n",
            "fc2 weight: Parameter containing:\n",
            "tensor([[-0.1190,  0.0971,  0.0532,  ..., -0.0716,  0.0375, -0.1106],\n",
            "        [-0.1111, -0.0106,  0.0710,  ..., -0.0384,  0.1069, -0.1486],\n",
            "        [-0.1481, -0.1202,  0.1449,  ...,  0.1061,  0.0359,  0.1011],\n",
            "        ...,\n",
            "        [ 0.0282,  0.1241, -0.1048,  ..., -0.0552, -0.0823,  0.1431],\n",
            "        [-0.0077, -0.1014,  0.0510,  ...,  0.0236,  0.0651,  0.1253],\n",
            "        [ 0.1010, -0.0481, -0.1248,  ..., -0.0319, -0.1259, -0.0954]],\n",
            "       requires_grad=True)\n"
          ]
        }
      ]
    },
    {
      "cell_type": "code",
      "source": [],
      "metadata": {
        "id": "vgeNfprdZ8th"
      },
      "execution_count": null,
      "outputs": []
    }
  ]
}
